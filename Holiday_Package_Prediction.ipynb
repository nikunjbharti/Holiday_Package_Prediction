{
 "cells": [
  {
   "cell_type": "code",
   "execution_count": 8,
   "id": "3695dd9f-08f9-4382-81fb-c2e0b4f4839a",
   "metadata": {
    "tags": []
   },
   "outputs": [],
   "source": [
    "import numpy as np \n",
    "import pandas as pd\n",
    "import seaborn as sns\n",
    "import matplotlib.pyplot as plt \n",
    "import random \n"
   ]
  },
  {
   "cell_type": "markdown",
   "id": "9faf1498-4143-44f7-8950-c47d349941a0",
   "metadata": {},
   "source": [
    "\"Travel.Com\" company wants to enable and establish a viable business model to expand the customer base. One of the ways to expand the customer base is to introduce a new offering of packages. *Currently, there are 5 types of packages the company is offering - **Basic, Standard, Deluxe, Super Deluxe, King**.* Looking at the data of the last year, we observed that 18% of the customers purchased the packages. However, the marketing cost was quite high because customers were contacted at random without looking at the available information. The company is now planning to launch a new product i.e. Wellness Tourism Package. **Wellness Tourism is defined as Travel that allows the traveler to maintain, enhance or kick-start a healthy lifestyle, and support or increase one's sense of well-being**.However, this time company wants to harness the available data of existing and potential customers to make the marketing expenditure more efficient.\n",
    "\n",
    "We need to analyze the customers' data and information to provide recommendations to the Policy Maker and Marketing Team and also **build a model to predict the potential customer who is going to purchase the newly introduced travel package**."
   ]
  },
  {
   "cell_type": "code",
   "execution_count": 10,
   "id": "13b08a42-3bbb-4b11-b120-96e6373a957e",
   "metadata": {
    "tags": []
   },
   "outputs": [],
   "source": [
    "df = pd.read_csv(r'Travel.csv')"
   ]
  },
  {
   "cell_type": "code",
   "execution_count": 11,
   "id": "2db102c4-3bbc-4a6f-8d9f-5a02708d9c06",
   "metadata": {
    "tags": []
   },
   "outputs": [
    {
     "data": {
      "text/html": [
       "<div>\n",
       "<style scoped>\n",
       "    .dataframe tbody tr th:only-of-type {\n",
       "        vertical-align: middle;\n",
       "    }\n",
       "\n",
       "    .dataframe tbody tr th {\n",
       "        vertical-align: top;\n",
       "    }\n",
       "\n",
       "    .dataframe thead th {\n",
       "        text-align: right;\n",
       "    }\n",
       "</style>\n",
       "<table border=\"1\" class=\"dataframe\">\n",
       "  <thead>\n",
       "    <tr style=\"text-align: right;\">\n",
       "      <th></th>\n",
       "      <th>CustomerID</th>\n",
       "      <th>ProdTaken</th>\n",
       "      <th>Age</th>\n",
       "      <th>TypeofContact</th>\n",
       "      <th>CityTier</th>\n",
       "      <th>DurationOfPitch</th>\n",
       "      <th>Occupation</th>\n",
       "      <th>Gender</th>\n",
       "      <th>NumberOfPersonVisiting</th>\n",
       "      <th>NumberOfFollowups</th>\n",
       "      <th>ProductPitched</th>\n",
       "      <th>PreferredPropertyStar</th>\n",
       "      <th>MaritalStatus</th>\n",
       "      <th>NumberOfTrips</th>\n",
       "      <th>Passport</th>\n",
       "      <th>PitchSatisfactionScore</th>\n",
       "      <th>OwnCar</th>\n",
       "      <th>NumberOfChildrenVisiting</th>\n",
       "      <th>Designation</th>\n",
       "      <th>MonthlyIncome</th>\n",
       "    </tr>\n",
       "  </thead>\n",
       "  <tbody>\n",
       "    <tr>\n",
       "      <th>0</th>\n",
       "      <td>200000</td>\n",
       "      <td>1</td>\n",
       "      <td>41.0</td>\n",
       "      <td>Self Enquiry</td>\n",
       "      <td>3</td>\n",
       "      <td>6.0</td>\n",
       "      <td>Salaried</td>\n",
       "      <td>Female</td>\n",
       "      <td>3</td>\n",
       "      <td>3.0</td>\n",
       "      <td>Deluxe</td>\n",
       "      <td>3.0</td>\n",
       "      <td>Single</td>\n",
       "      <td>1.0</td>\n",
       "      <td>1</td>\n",
       "      <td>2</td>\n",
       "      <td>1</td>\n",
       "      <td>0.0</td>\n",
       "      <td>Manager</td>\n",
       "      <td>20993.0</td>\n",
       "    </tr>\n",
       "    <tr>\n",
       "      <th>1</th>\n",
       "      <td>200001</td>\n",
       "      <td>0</td>\n",
       "      <td>49.0</td>\n",
       "      <td>Company Invited</td>\n",
       "      <td>1</td>\n",
       "      <td>14.0</td>\n",
       "      <td>Salaried</td>\n",
       "      <td>Male</td>\n",
       "      <td>3</td>\n",
       "      <td>4.0</td>\n",
       "      <td>Deluxe</td>\n",
       "      <td>4.0</td>\n",
       "      <td>Divorced</td>\n",
       "      <td>2.0</td>\n",
       "      <td>0</td>\n",
       "      <td>3</td>\n",
       "      <td>1</td>\n",
       "      <td>2.0</td>\n",
       "      <td>Manager</td>\n",
       "      <td>20130.0</td>\n",
       "    </tr>\n",
       "    <tr>\n",
       "      <th>2</th>\n",
       "      <td>200002</td>\n",
       "      <td>1</td>\n",
       "      <td>37.0</td>\n",
       "      <td>Self Enquiry</td>\n",
       "      <td>1</td>\n",
       "      <td>8.0</td>\n",
       "      <td>Free Lancer</td>\n",
       "      <td>Male</td>\n",
       "      <td>3</td>\n",
       "      <td>4.0</td>\n",
       "      <td>Basic</td>\n",
       "      <td>3.0</td>\n",
       "      <td>Single</td>\n",
       "      <td>7.0</td>\n",
       "      <td>1</td>\n",
       "      <td>3</td>\n",
       "      <td>0</td>\n",
       "      <td>0.0</td>\n",
       "      <td>Executive</td>\n",
       "      <td>17090.0</td>\n",
       "    </tr>\n",
       "    <tr>\n",
       "      <th>3</th>\n",
       "      <td>200003</td>\n",
       "      <td>0</td>\n",
       "      <td>33.0</td>\n",
       "      <td>Company Invited</td>\n",
       "      <td>1</td>\n",
       "      <td>9.0</td>\n",
       "      <td>Salaried</td>\n",
       "      <td>Female</td>\n",
       "      <td>2</td>\n",
       "      <td>3.0</td>\n",
       "      <td>Basic</td>\n",
       "      <td>3.0</td>\n",
       "      <td>Divorced</td>\n",
       "      <td>2.0</td>\n",
       "      <td>1</td>\n",
       "      <td>5</td>\n",
       "      <td>1</td>\n",
       "      <td>1.0</td>\n",
       "      <td>Executive</td>\n",
       "      <td>17909.0</td>\n",
       "    </tr>\n",
       "    <tr>\n",
       "      <th>4</th>\n",
       "      <td>200004</td>\n",
       "      <td>0</td>\n",
       "      <td>NaN</td>\n",
       "      <td>Self Enquiry</td>\n",
       "      <td>1</td>\n",
       "      <td>8.0</td>\n",
       "      <td>Small Business</td>\n",
       "      <td>Male</td>\n",
       "      <td>2</td>\n",
       "      <td>3.0</td>\n",
       "      <td>Basic</td>\n",
       "      <td>4.0</td>\n",
       "      <td>Divorced</td>\n",
       "      <td>1.0</td>\n",
       "      <td>0</td>\n",
       "      <td>5</td>\n",
       "      <td>1</td>\n",
       "      <td>0.0</td>\n",
       "      <td>Executive</td>\n",
       "      <td>18468.0</td>\n",
       "    </tr>\n",
       "  </tbody>\n",
       "</table>\n",
       "</div>"
      ],
      "text/plain": [
       "   CustomerID  ProdTaken   Age    TypeofContact  CityTier  DurationOfPitch  \\\n",
       "0      200000          1  41.0     Self Enquiry         3              6.0   \n",
       "1      200001          0  49.0  Company Invited         1             14.0   \n",
       "2      200002          1  37.0     Self Enquiry         1              8.0   \n",
       "3      200003          0  33.0  Company Invited         1              9.0   \n",
       "4      200004          0   NaN     Self Enquiry         1              8.0   \n",
       "\n",
       "       Occupation  Gender  NumberOfPersonVisiting  NumberOfFollowups  \\\n",
       "0        Salaried  Female                       3                3.0   \n",
       "1        Salaried    Male                       3                4.0   \n",
       "2     Free Lancer    Male                       3                4.0   \n",
       "3        Salaried  Female                       2                3.0   \n",
       "4  Small Business    Male                       2                3.0   \n",
       "\n",
       "  ProductPitched  PreferredPropertyStar MaritalStatus  NumberOfTrips  \\\n",
       "0         Deluxe                    3.0        Single            1.0   \n",
       "1         Deluxe                    4.0      Divorced            2.0   \n",
       "2          Basic                    3.0        Single            7.0   \n",
       "3          Basic                    3.0      Divorced            2.0   \n",
       "4          Basic                    4.0      Divorced            1.0   \n",
       "\n",
       "   Passport  PitchSatisfactionScore  OwnCar  NumberOfChildrenVisiting  \\\n",
       "0         1                       2       1                       0.0   \n",
       "1         0                       3       1                       2.0   \n",
       "2         1                       3       0                       0.0   \n",
       "3         1                       5       1                       1.0   \n",
       "4         0                       5       1                       0.0   \n",
       "\n",
       "  Designation  MonthlyIncome  \n",
       "0     Manager        20993.0  \n",
       "1     Manager        20130.0  \n",
       "2   Executive        17090.0  \n",
       "3   Executive        17909.0  \n",
       "4   Executive        18468.0  "
      ]
     },
     "execution_count": 11,
     "metadata": {},
     "output_type": "execute_result"
    }
   ],
   "source": [
    "df.head()"
   ]
  },
  {
   "cell_type": "code",
   "execution_count": 12,
   "id": "a7b75488-8922-4887-9a2d-00cdf36c0eec",
   "metadata": {
    "tags": []
   },
   "outputs": [
    {
     "data": {
      "text/plain": [
       "(4888, 20)"
      ]
     },
     "execution_count": 12,
     "metadata": {},
     "output_type": "execute_result"
    }
   ],
   "source": [
    "df.shape"
   ]
  },
  {
   "cell_type": "code",
   "execution_count": 15,
   "id": "f023d143-ea82-4783-b625-00145329ee44",
   "metadata": {
    "tags": []
   },
   "outputs": [
    {
     "data": {
      "text/plain": [
       "CustomerID                    0\n",
       "ProdTaken                     0\n",
       "Age                         226\n",
       "TypeofContact                25\n",
       "CityTier                      0\n",
       "DurationOfPitch             251\n",
       "Occupation                    0\n",
       "Gender                        0\n",
       "NumberOfPersonVisiting        0\n",
       "NumberOfFollowups            45\n",
       "ProductPitched                0\n",
       "PreferredPropertyStar        26\n",
       "MaritalStatus                 0\n",
       "NumberOfTrips               140\n",
       "Passport                      0\n",
       "PitchSatisfactionScore        0\n",
       "OwnCar                        0\n",
       "NumberOfChildrenVisiting     66\n",
       "Designation                   0\n",
       "MonthlyIncome               233\n",
       "dtype: int64"
      ]
     },
     "execution_count": 15,
     "metadata": {},
     "output_type": "execute_result"
    }
   ],
   "source": [
    "df.isnull().sum()"
   ]
  },
  {
   "cell_type": "code",
   "execution_count": 19,
   "id": "82a77b0e-72bc-4c1a-a550-51e5f7e10443",
   "metadata": {
    "tags": []
   },
   "outputs": [
    {
     "data": {
      "text/plain": [
       "Gender\n",
       "Male       2916\n",
       "Female     1817\n",
       "Fe Male     155\n",
       "Name: count, dtype: int64"
      ]
     },
     "execution_count": 19,
     "metadata": {},
     "output_type": "execute_result"
    }
   ],
   "source": [
    "df['Gender'].value_counts()\n"
   ]
  },
  {
   "cell_type": "code",
   "execution_count": 21,
   "id": "dddcbb64-588a-4782-a6c2-b10b3031db73",
   "metadata": {
    "tags": []
   },
   "outputs": [],
   "source": [
    "df['Gender'].replace('Fe Male', 'Female', inplace = True)"
   ]
  },
  {
   "cell_type": "code",
   "execution_count": 23,
   "id": "a80ec52f-cb5b-4edb-8485-4045e0d3b172",
   "metadata": {
    "tags": []
   },
   "outputs": [
    {
     "data": {
      "text/plain": [
       "Gender\n",
       "Male      2916\n",
       "Female    1972\n",
       "Name: count, dtype: int64"
      ]
     },
     "execution_count": 23,
     "metadata": {},
     "output_type": "execute_result"
    }
   ],
   "source": [
    "df['Gender'].value_counts()"
   ]
  },
  {
   "cell_type": "code",
   "execution_count": 25,
   "id": "92ed9d38-4223-4b34-bb43-fe1a2e45080e",
   "metadata": {
    "tags": []
   },
   "outputs": [
    {
     "data": {
      "text/plain": [
       "Gender\n",
       "Female     82\n",
       "Male      144\n",
       "Name: Age, dtype: int64"
      ]
     },
     "execution_count": 25,
     "metadata": {},
     "output_type": "execute_result"
    }
   ],
   "source": [
    "df[df['Age'].isnull()].groupby('Gender')['Age'].size()"
   ]
  },
  {
   "cell_type": "code",
   "execution_count": 27,
   "id": "4fca4cee-5dd0-441e-89d1-6b21f879efb4",
   "metadata": {
    "tags": []
   },
   "outputs": [
    {
     "data": {
      "text/plain": [
       "Gender\n",
       "Female    38.0\n",
       "Male      37.0\n",
       "Name: Age, dtype: float64"
      ]
     },
     "execution_count": 27,
     "metadata": {},
     "output_type": "execute_result"
    }
   ],
   "source": [
    "round(df.groupby('Gender')['Age'].mean(),0)"
   ]
  },
  {
   "cell_type": "code",
   "execution_count": 29,
   "id": "c215406a-80e0-4a01-a884-950054253730",
   "metadata": {
    "tags": []
   },
   "outputs": [],
   "source": [
    "df['Age'].fillna(round(df.groupby('Gender')['Age'].transform(lambda x:x.mean()),0), inplace=True)"
   ]
  },
  {
   "cell_type": "code",
   "execution_count": 31,
   "id": "5eda8bbe-afc2-488e-87ab-36105282977a",
   "metadata": {
    "tags": []
   },
   "outputs": [
    {
     "data": {
      "text/plain": [
       "TypeofContact\n",
       "Self Enquiry       3444\n",
       "Company Invited    1419\n",
       "Name: count, dtype: int64"
      ]
     },
     "execution_count": 31,
     "metadata": {},
     "output_type": "execute_result"
    }
   ],
   "source": [
    "df['TypeofContact'].value_counts()"
   ]
  },
  {
   "cell_type": "code",
   "execution_count": 33,
   "id": "1d1cf348-e4f8-41f5-ad32-eae9798709fc",
   "metadata": {
    "tags": []
   },
   "outputs": [
    {
     "data": {
      "text/plain": [
       "Occupation\n",
       "Salaried          2368\n",
       "Small Business    2084\n",
       "Large Business     434\n",
       "Free Lancer          2\n",
       "Name: count, dtype: int64"
      ]
     },
     "execution_count": 33,
     "metadata": {},
     "output_type": "execute_result"
    }
   ],
   "source": [
    "df['Occupation'].value_counts()"
   ]
  },
  {
   "cell_type": "code",
   "execution_count": 35,
   "id": "b6376f96-b523-4fe3-8f51-141ddcaeac66",
   "metadata": {
    "tags": []
   },
   "outputs": [
    {
     "data": {
      "text/plain": [
       "ProductPitched\n",
       "Basic           1842\n",
       "Deluxe          1732\n",
       "Standard         742\n",
       "Super Deluxe     342\n",
       "King             230\n",
       "Name: count, dtype: int64"
      ]
     },
     "execution_count": 35,
     "metadata": {},
     "output_type": "execute_result"
    }
   ],
   "source": [
    "\n",
    "df['ProductPitched'].value_counts()\n"
   ]
  },
  {
   "cell_type": "code",
   "execution_count": 37,
   "id": "e6d44b9f-18fa-496d-a710-ab179a86b43b",
   "metadata": {
    "tags": []
   },
   "outputs": [
    {
     "data": {
      "text/plain": [
       "MaritalStatus\n",
       "Married      2340\n",
       "Divorced      950\n",
       "Single        916\n",
       "Unmarried     682\n",
       "Name: count, dtype: int64"
      ]
     },
     "execution_count": 37,
     "metadata": {},
     "output_type": "execute_result"
    }
   ],
   "source": [
    "df['MaritalStatus'].value_counts()"
   ]
  },
  {
   "cell_type": "code",
   "execution_count": 38,
   "id": "5422cec2-818a-4d3b-aa1a-8381b113f6a7",
   "metadata": {
    "tags": []
   },
   "outputs": [
    {
     "data": {
      "text/plain": [
       "MaritalStatus\n",
       "Married     2340\n",
       "Single      1598\n",
       "Divorced     950\n",
       "Name: count, dtype: int64"
      ]
     },
     "execution_count": 38,
     "metadata": {},
     "output_type": "execute_result"
    }
   ],
   "source": [
    "df['MaritalStatus'].replace('Unmarried','Single').value_counts()"
   ]
  },
  {
   "cell_type": "code",
   "execution_count": 39,
   "id": "eebf1305-20ee-410c-8599-7cafa66000d3",
   "metadata": {
    "tags": []
   },
   "outputs": [],
   "source": [
    "df['MaritalStatus'].replace('Unmarried','Single', inplace = True)"
   ]
  },
  {
   "cell_type": "markdown",
   "id": "5716c770-0a0a-4f18-8b7f-07962945453f",
   "metadata": {
    "tags": []
   },
   "source": [
    "df['Designation'].value_counts()"
   ]
  },
  {
   "cell_type": "code",
   "execution_count": 41,
   "id": "c714188a-89ad-4896-b5d7-e44b67c719ab",
   "metadata": {
    "tags": []
   },
   "outputs": [
    {
     "data": {
      "text/plain": [
       "CustomerID                    0\n",
       "ProdTaken                     0\n",
       "Age                           0\n",
       "TypeofContact                25\n",
       "CityTier                      0\n",
       "DurationOfPitch             251\n",
       "Occupation                    0\n",
       "Gender                        0\n",
       "NumberOfPersonVisiting        0\n",
       "NumberOfFollowups            45\n",
       "ProductPitched                0\n",
       "PreferredPropertyStar        26\n",
       "MaritalStatus                 0\n",
       "NumberOfTrips               140\n",
       "Passport                      0\n",
       "PitchSatisfactionScore        0\n",
       "OwnCar                        0\n",
       "NumberOfChildrenVisiting     66\n",
       "Designation                   0\n",
       "MonthlyIncome               233\n",
       "dtype: int64"
      ]
     },
     "execution_count": 41,
     "metadata": {},
     "output_type": "execute_result"
    }
   ],
   "source": [
    "df.isnull().sum()"
   ]
  },
  {
   "cell_type": "markdown",
   "id": "fc457427-fbe0-4b58-ba15-28be384a3ad8",
   "metadata": {},
   "source": [
    "# Handling missing value "
   ]
  },
  {
   "cell_type": "code",
   "execution_count": 43,
   "id": "35c2079c-7458-4599-9066-0a077ff95713",
   "metadata": {
    "tags": []
   },
   "outputs": [
    {
     "data": {
      "text/plain": [
       "Gender  Designation   \n",
       "Female  AVP                146\n",
       "        Executive          677\n",
       "        Manager            724\n",
       "        Senior Manager     325\n",
       "        VP                  56\n",
       "Male    AVP                146\n",
       "        Executive         1160\n",
       "        Manager           1006\n",
       "        Senior Manager     416\n",
       "        VP                  92\n",
       "Name: NumberOfTrips, dtype: int64"
      ]
     },
     "execution_count": 43,
     "metadata": {},
     "output_type": "execute_result"
    }
   ],
   "source": [
    "df.groupby(['Gender','Designation'])['NumberOfTrips'].count()"
   ]
  },
  {
   "cell_type": "code",
   "execution_count": 44,
   "id": "66ec0f12-a0ee-4664-9359-32a5dae761da",
   "metadata": {
    "tags": []
   },
   "outputs": [
    {
     "data": {
      "text/plain": [
       "Designation\n",
       "Executive         1842\n",
       "Manager           1732\n",
       "Senior Manager     742\n",
       "AVP                342\n",
       "VP                 230\n",
       "Name: count, dtype: int64"
      ]
     },
     "execution_count": 44,
     "metadata": {},
     "output_type": "execute_result"
    }
   ],
   "source": [
    "df['Designation'].value_counts()"
   ]
  },
  {
   "cell_type": "markdown",
   "id": "76d5e6e5-acca-4a9d-9b99-79430ad49e09",
   "metadata": {},
   "source": [
    "## I am gonna replace all the missing data with **Executive and Manager**"
   ]
  },
  {
   "cell_type": "code",
   "execution_count": 46,
   "id": "0843c47b-0f90-4942-a031-506109325624",
   "metadata": {
    "tags": []
   },
   "outputs": [
    {
     "data": {
      "text/plain": [
       "51.53889199776162"
      ]
     },
     "execution_count": 46,
     "metadata": {},
     "output_type": "execute_result"
    }
   ],
   "source": [
    "(1842/(1842+1732))*100"
   ]
  },
  {
   "cell_type": "code",
   "execution_count": 47,
   "id": "807eaad1-66a3-450c-b18f-b0a0f05d4bea",
   "metadata": {
    "tags": []
   },
   "outputs": [],
   "source": [
    "lis = ['Exacutive', 'Manager']\n",
    "df['Designation'].fillna(lambda x:x.random.choice(lis), inplace = True)"
   ]
  },
  {
   "cell_type": "markdown",
   "id": "c5e14649-c38b-4273-bbfe-f767421b75cf",
   "metadata": {
    "tags": []
   },
   "source": [
    "## Here i am planning to replace all the Missing MonthlySalary with the Designation and Gender of the employee"
   ]
  },
  {
   "cell_type": "code",
   "execution_count": 49,
   "id": "1c25b99c-e1fe-4075-9a19-6c4675dde6fd",
   "metadata": {
    "tags": []
   },
   "outputs": [
    {
     "data": {
      "text/plain": [
       "Designation     Gender\n",
       "AVP             Female    32212.0\n",
       "                Male      32267.0\n",
       "Executive       Female    20164.0\n",
       "                Male      19810.0\n",
       "Manager         Female    22487.0\n",
       "                Male      22754.0\n",
       "Senior Manager  Female    26852.0\n",
       "                Male      26470.0\n",
       "VP              Female    35573.0\n",
       "                Male      36048.0\n",
       "Name: MonthlyIncome, dtype: float64"
      ]
     },
     "execution_count": 49,
     "metadata": {},
     "output_type": "execute_result"
    }
   ],
   "source": [
    "round(df.groupby(['Designation', 'Gender'])['MonthlyIncome'].mean(),0)"
   ]
  },
  {
   "cell_type": "code",
   "execution_count": 50,
   "id": "36f4527e-aa97-490f-b00f-3db20ec75434",
   "metadata": {
    "tags": []
   },
   "outputs": [],
   "source": [
    "df['MonthlyIncome'].fillna(df.groupby(['Designation', 'Gender'])['MonthlyIncome'].transform(lambda x:round(x.mean(),0)), inplace = True)"
   ]
  },
  {
   "cell_type": "code",
   "execution_count": 51,
   "id": "7a7a4864-6ac5-4e9e-8695-6444a148d0b2",
   "metadata": {
    "tags": []
   },
   "outputs": [
    {
     "data": {
      "text/plain": [
       "DurationOfPitch\n",
       "9.0      483\n",
       "7.0      342\n",
       "8.0      333\n",
       "6.0      307\n",
       "16.0     274\n",
       "15.0     269\n",
       "14.0     253\n",
       "10.0     244\n",
       "13.0     223\n",
       "11.0     205\n",
       "12.0     195\n",
       "17.0     172\n",
       "30.0      95\n",
       "22.0      89\n",
       "31.0      83\n",
       "23.0      79\n",
       "18.0      75\n",
       "29.0      74\n",
       "32.0      74\n",
       "25.0      73\n",
       "21.0      73\n",
       "27.0      72\n",
       "26.0      72\n",
       "24.0      70\n",
       "35.0      66\n",
       "20.0      65\n",
       "28.0      61\n",
       "33.0      57\n",
       "19.0      57\n",
       "34.0      50\n",
       "36.0      44\n",
       "5.0        6\n",
       "126.0      1\n",
       "127.0      1\n",
       "Name: count, dtype: int64"
      ]
     },
     "execution_count": 51,
     "metadata": {},
     "output_type": "execute_result"
    }
   ],
   "source": [
    "df['DurationOfPitch'].value_counts()"
   ]
  },
  {
   "cell_type": "code",
   "execution_count": 52,
   "id": "c6aac087-059f-4e6a-8ab8-cc67183f1831",
   "metadata": {
    "tags": []
   },
   "outputs": [
    {
     "name": "stderr",
     "output_type": "stream",
     "text": [
      "C:\\Users\\yniku\\anaconda3\\Lib\\site-packages\\seaborn\\_oldcore.py:1119: FutureWarning: use_inf_as_na option is deprecated and will be removed in a future version. Convert inf values to NaN before operating instead.\n",
      "  with pd.option_context('mode.use_inf_as_na', True):\n"
     ]
    },
    {
     "data": {
      "text/plain": [
       "<Axes: xlabel='DurationOfPitch', ylabel='Count'>"
      ]
     },
     "execution_count": 52,
     "metadata": {},
     "output_type": "execute_result"
    },
    {
     "data": {
      "image/png": "[encoded data removed]",
      "text/plain": [
       "<Figure size 640x480 with 1 Axes>"
      ]
     },
     "metadata": {},
     "output_type": "display_data"
    }
   ],
   "source": [
    "sns.histplot(df['DurationOfPitch'], kde = True)"
   ]
  },
  {
   "cell_type": "code",
   "execution_count": 53,
   "id": "f20b1bda-6476-49f8-86bc-8141f0b2c688",
   "metadata": {
    "tags": []
   },
   "outputs": [],
   "source": [
    "## Reoplacing DurationOfPitch with mean would be good choice \n"
   ]
  },
  {
   "cell_type": "code",
   "execution_count": 54,
   "id": "706f5475-3738-4eee-9242-f5fd5803fcbf",
   "metadata": {
    "tags": []
   },
   "outputs": [],
   "source": [
    "df['DurationOfPitch'].fillna(round(df['DurationOfPitch'].mean(), 0), inplace = True)"
   ]
  },
  {
   "cell_type": "code",
   "execution_count": 55,
   "id": "35e25c47-fbd2-47e6-95bb-84c0a0c34ae6",
   "metadata": {
    "tags": []
   },
   "outputs": [
    {
     "data": {
      "text/plain": [
       "CustomerID                    0\n",
       "ProdTaken                     0\n",
       "Age                           0\n",
       "TypeofContact                25\n",
       "CityTier                      0\n",
       "DurationOfPitch               0\n",
       "Occupation                    0\n",
       "Gender                        0\n",
       "NumberOfPersonVisiting        0\n",
       "NumberOfFollowups            45\n",
       "ProductPitched                0\n",
       "PreferredPropertyStar        26\n",
       "MaritalStatus                 0\n",
       "NumberOfTrips               140\n",
       "Passport                      0\n",
       "PitchSatisfactionScore        0\n",
       "OwnCar                        0\n",
       "NumberOfChildrenVisiting     66\n",
       "Designation                   0\n",
       "MonthlyIncome                 0\n",
       "dtype: int64"
      ]
     },
     "execution_count": 55,
     "metadata": {},
     "output_type": "execute_result"
    }
   ],
   "source": [
    "df.isnull().sum()"
   ]
  },
  {
   "cell_type": "code",
   "execution_count": 56,
   "id": "da2a7521-e8e3-4e64-8f97-bceb51b80514",
   "metadata": {
    "tags": []
   },
   "outputs": [
    {
     "data": {
      "text/plain": [
       "NumberOfChildrenVisiting\n",
       "1.0    2080\n",
       "2.0    1335\n",
       "0.0    1082\n",
       "3.0     325\n",
       "Name: count, dtype: int64"
      ]
     },
     "execution_count": 56,
     "metadata": {},
     "output_type": "execute_result"
    }
   ],
   "source": [
    "df['NumberOfChildrenVisiting'].value_counts()"
   ]
  },
  {
   "cell_type": "code",
   "execution_count": 57,
   "id": "aafa931b-ebb9-4267-b7a9-9c23ea5328d0",
   "metadata": {
    "tags": []
   },
   "outputs": [],
   "source": [
    "## I am going to replace nan value with 0 in NumberOfChildrenVisiting \n",
    "df['NumberOfChildrenVisiting'].fillna(0, inplace = True)"
   ]
  },
  {
   "cell_type": "code",
   "execution_count": 75,
   "id": "479b30fa-0568-4979-a01e-85f258bc384c",
   "metadata": {
    "tags": []
   },
   "outputs": [
    {
     "data": {
      "text/plain": [
       "PreferredPropertyStar\n",
       "3.0    2993\n",
       "5.0     956\n",
       "4.0     913\n",
       "Name: count, dtype: int64"
      ]
     },
     "execution_count": 75,
     "metadata": {},
     "output_type": "execute_result"
    }
   ],
   "source": [
    "df['PreferredPropertyStar'].value_counts()"
   ]
  },
  {
   "cell_type": "code",
   "execution_count": 76,
   "id": "a2f34aaf-db82-4a0a-b0b6-d986f23ae15b",
   "metadata": {
    "tags": []
   },
   "outputs": [
    {
     "data": {
      "text/plain": [
       "Designation     MaritalStatus  ProductPitched  PreferredPropertyStar\n",
       "AVP             Divorced       Super Deluxe    3.0                       52\n",
       "                                               4.0                       12\n",
       "                                               5.0                       24\n",
       "                Married        Super Deluxe    3.0                      108\n",
       "                                               4.0                       26\n",
       "                                               5.0                       32\n",
       "                Single         Super Deluxe    3.0                       52\n",
       "                                               4.0                       24\n",
       "                                               5.0                       12\n",
       "Executive       Divorced       Basic           3.0                      202\n",
       "                                               4.0                       68\n",
       "                                               5.0                       61\n",
       "                Married        Basic           3.0                      498\n",
       "                                               4.0                      166\n",
       "                                               5.0                      152\n",
       "                Single         Basic           3.0                      418\n",
       "                                               4.0                      134\n",
       "                                               5.0                      142\n",
       "Manager         Divorced       Deluxe          3.0                      218\n",
       "                                               4.0                       66\n",
       "                                               5.0                       52\n",
       "                Married        Deluxe          3.0                      506\n",
       "                                               4.0                      168\n",
       "                                               5.0                      178\n",
       "                Single         Deluxe          3.0                      366\n",
       "                                               4.0                       78\n",
       "                                               5.0                       99\n",
       "Senior Manager  Divorced       Standard        3.0                       78\n",
       "                                               4.0                       24\n",
       "                                               5.0                       40\n",
       "                Married        Standard        3.0                      214\n",
       "                                               4.0                       66\n",
       "                                               5.0                      100\n",
       "                Single         Standard        3.0                      144\n",
       "                                               4.0                       40\n",
       "                                               5.0                       35\n",
       "VP              Divorced       King            3.0                       31\n",
       "                                               4.0                       10\n",
       "                                               5.0                        6\n",
       "                Married        King            3.0                       88\n",
       "                                               4.0                       13\n",
       "                                               5.0                       11\n",
       "                Single         King            3.0                       18\n",
       "                                               4.0                       18\n",
       "                                               5.0                       12\n",
       "Name: PreferredPropertyStar, dtype: int64"
      ]
     },
     "execution_count": 76,
     "metadata": {},
     "output_type": "execute_result"
    }
   ],
   "source": [
    "x = ['Designation', 'MaritalStatus', 'ProductPitched','PreferredPropertyStar']\n",
    "df.groupby(x)['PreferredPropertyStar'].count()"
   ]
  },
  {
   "cell_type": "code",
   "execution_count": 77,
   "id": "999c4598-4dac-40a2-a8b8-e3ff208669dd",
   "metadata": {
    "tags": []
   },
   "outputs": [],
   "source": [
    "df.dropna(subset=['PreferredPropertyStar'], inplace=True)"
   ]
  },
  {
   "cell_type": "code",
   "execution_count": 78,
   "id": "12931f3f-287b-45e9-b374-39900cc8878b",
   "metadata": {
    "tags": []
   },
   "outputs": [
    {
     "data": {
      "text/plain": [
       "0"
      ]
     },
     "execution_count": 78,
     "metadata": {},
     "output_type": "execute_result"
    }
   ],
   "source": [
    "df['PreferredPropertyStar'].isnull().sum()"
   ]
  },
  {
   "cell_type": "code",
   "execution_count": 79,
   "id": "2face03f-c0e2-4bda-aca4-ccf55b12cc82",
   "metadata": {
    "tags": []
   },
   "outputs": [
    {
     "data": {
      "text/plain": [
       "Occupation      TypeofContact  \n",
       "Free Lancer     Self Enquiry          2\n",
       "Large Business  Company Invited     110\n",
       "                Self Enquiry        322\n",
       "Salaried        Company Invited     722\n",
       "                Self Enquiry       1625\n",
       "Small Business  Company Invited     583\n",
       "                Self Enquiry       1473\n",
       "Name: TypeofContact, dtype: int64"
      ]
     },
     "execution_count": 79,
     "metadata": {},
     "output_type": "execute_result"
    }
   ],
   "source": [
    "y = ['Occupation', 'TypeofContact']\n",
    "df.groupby(y)['TypeofContact'].count()\n",
    "\n",
    "# df['TypeofContact'].value_counts()"
   ]
  },
  {
   "cell_type": "code",
   "execution_count": 80,
   "id": "8f2b75b1-ea7e-43ca-8ab8-cf7234d84272",
   "metadata": {
    "tags": []
   },
   "outputs": [],
   "source": [
    "df.dropna(subset = ['TypeofContact'],inplace =True)"
   ]
  },
  {
   "cell_type": "code",
   "execution_count": 81,
   "id": "9aafbb2e-35d5-419a-9aea-46cecc689d12",
   "metadata": {
    "tags": []
   },
   "outputs": [],
   "source": [
    "df.dropna(subset = ['NumberOfFollowups'],inplace =True)"
   ]
  },
  {
   "cell_type": "code",
   "execution_count": 82,
   "id": "126e52b3-db9c-46c9-8f76-621a9f1423ab",
   "metadata": {
    "tags": []
   },
   "outputs": [
    {
     "data": {
      "text/plain": [
       "NumberOfFollowups\n",
       "4.0    2046\n",
       "3.0    1456\n",
       "5.0     760\n",
       "2.0     228\n",
       "1.0     172\n",
       "6.0     130\n",
       "Name: count, dtype: int64"
      ]
     },
     "execution_count": 82,
     "metadata": {},
     "output_type": "execute_result"
    }
   ],
   "source": [
    "df['NumberOfFollowups'].value_counts()"
   ]
  },
  {
   "cell_type": "code",
   "execution_count": 83,
   "id": "973888d9-517b-405a-90e1-71ef023dc812",
   "metadata": {
    "tags": []
   },
   "outputs": [],
   "source": [
    "## I thik i should randomly replace exacutive and manger\n",
    "\n",
    "df['NumberOfTrips'].fillna(df['NumberOfTrips'].median(), inplace = True)"
   ]
  },
  {
   "cell_type": "code",
   "execution_count": 84,
   "id": "5b01b870-8766-4b30-b390-29b5cacca6a0",
   "metadata": {
    "tags": []
   },
   "outputs": [
    {
     "data": {
      "text/plain": [
       "CustomerID                  0\n",
       "ProdTaken                   0\n",
       "Age                         0\n",
       "TypeofContact               0\n",
       "CityTier                    0\n",
       "DurationOfPitch             0\n",
       "Occupation                  0\n",
       "Gender                      0\n",
       "NumberOfPersonVisiting      0\n",
       "NumberOfFollowups           0\n",
       "ProductPitched              0\n",
       "PreferredPropertyStar       0\n",
       "MaritalStatus               0\n",
       "NumberOfTrips               0\n",
       "Passport                    0\n",
       "PitchSatisfactionScore      0\n",
       "OwnCar                      0\n",
       "NumberOfChildrenVisiting    0\n",
       "Designation                 0\n",
       "MonthlyIncome               0\n",
       "dtype: int64"
      ]
     },
     "execution_count": 84,
     "metadata": {},
     "output_type": "execute_result"
    }
   ],
   "source": [
    "df.isnull().sum()"
   ]
  },
  {
   "cell_type": "code",
   "execution_count": 85,
   "id": "63c403ea-80f4-44db-a33c-de6175727890",
   "metadata": {
    "tags": []
   },
   "outputs": [
    {
     "name": "stdout",
     "output_type": "stream",
     "text": [
      "<class 'pandas.core.frame.DataFrame'>\n",
      "Index: 4792 entries, 0 to 4887\n",
      "Data columns (total 20 columns):\n",
      " #   Column                    Non-Null Count  Dtype  \n",
      "---  ------                    --------------  -----  \n",
      " 0   CustomerID                4792 non-null   int64  \n",
      " 1   ProdTaken                 4792 non-null   int64  \n",
      " 2   Age                       4792 non-null   float64\n",
      " 3   TypeofContact             4792 non-null   object \n",
      " 4   CityTier                  4792 non-null   int64  \n",
      " 5   DurationOfPitch           4792 non-null   float64\n",
      " 6   Occupation                4792 non-null   object \n",
      " 7   Gender                    4792 non-null   object \n",
      " 8   NumberOfPersonVisiting    4792 non-null   int64  \n",
      " 9   NumberOfFollowups         4792 non-null   float64\n",
      " 10  ProductPitched            4792 non-null   object \n",
      " 11  PreferredPropertyStar     4792 non-null   float64\n",
      " 12  MaritalStatus             4792 non-null   object \n",
      " 13  NumberOfTrips             4792 non-null   float64\n",
      " 14  Passport                  4792 non-null   int64  \n",
      " 15  PitchSatisfactionScore    4792 non-null   int64  \n",
      " 16  OwnCar                    4792 non-null   int64  \n",
      " 17  NumberOfChildrenVisiting  4792 non-null   float64\n",
      " 18  Designation               4792 non-null   object \n",
      " 19  MonthlyIncome             4792 non-null   float64\n",
      "dtypes: float64(7), int64(7), object(6)\n",
      "memory usage: 786.2+ KB\n"
     ]
    }
   ],
   "source": [
    "df.info()"
   ]
  },
  {
   "cell_type": "code",
   "execution_count": 86,
   "id": "3bdb73ad-855d-4b77-9c25-ab8eb025c036",
   "metadata": {
    "tags": []
   },
   "outputs": [
    {
     "data": {
      "text/html": [
       "<div>\n",
       "<style scoped>\n",
       "    .dataframe tbody tr th:only-of-type {\n",
       "        vertical-align: middle;\n",
       "    }\n",
       "\n",
       "    .dataframe tbody tr th {\n",
       "        vertical-align: top;\n",
       "    }\n",
       "\n",
       "    .dataframe thead th {\n",
       "        text-align: right;\n",
       "    }\n",
       "</style>\n",
       "<table border=\"1\" class=\"dataframe\">\n",
       "  <thead>\n",
       "    <tr style=\"text-align: right;\">\n",
       "      <th></th>\n",
       "      <th>CustomerID</th>\n",
       "      <th>ProdTaken</th>\n",
       "      <th>Age</th>\n",
       "      <th>CityTier</th>\n",
       "      <th>DurationOfPitch</th>\n",
       "      <th>NumberOfPersonVisiting</th>\n",
       "      <th>NumberOfFollowups</th>\n",
       "      <th>PreferredPropertyStar</th>\n",
       "      <th>NumberOfTrips</th>\n",
       "      <th>Passport</th>\n",
       "      <th>PitchSatisfactionScore</th>\n",
       "      <th>OwnCar</th>\n",
       "      <th>NumberOfChildrenVisiting</th>\n",
       "      <th>MonthlyIncome</th>\n",
       "    </tr>\n",
       "  </thead>\n",
       "  <tbody>\n",
       "    <tr>\n",
       "      <th>count</th>\n",
       "      <td>4792.000000</td>\n",
       "      <td>4792.000000</td>\n",
       "      <td>4792.000000</td>\n",
       "      <td>4792.000000</td>\n",
       "      <td>4792.000000</td>\n",
       "      <td>4792.000000</td>\n",
       "      <td>4792.000000</td>\n",
       "      <td>4792.000000</td>\n",
       "      <td>4792.000000</td>\n",
       "      <td>4792.000000</td>\n",
       "      <td>4792.000000</td>\n",
       "      <td>4792.000000</td>\n",
       "      <td>4792.000000</td>\n",
       "      <td>4792.000000</td>\n",
       "    </tr>\n",
       "    <tr>\n",
       "      <th>mean</th>\n",
       "      <td>202451.252087</td>\n",
       "      <td>0.188439</td>\n",
       "      <td>37.588689</td>\n",
       "      <td>1.652546</td>\n",
       "      <td>15.488314</td>\n",
       "      <td>2.909015</td>\n",
       "      <td>3.706177</td>\n",
       "      <td>3.581386</td>\n",
       "      <td>3.229132</td>\n",
       "      <td>0.293406</td>\n",
       "      <td>3.075125</td>\n",
       "      <td>0.618948</td>\n",
       "      <td>1.173414</td>\n",
       "      <td>23475.691987</td>\n",
       "    </tr>\n",
       "    <tr>\n",
       "      <th>std</th>\n",
       "      <td>1410.575317</td>\n",
       "      <td>0.391103</td>\n",
       "      <td>9.058500</td>\n",
       "      <td>0.916293</td>\n",
       "      <td>8.335775</td>\n",
       "      <td>0.723279</td>\n",
       "      <td>0.999091</td>\n",
       "      <td>0.797913</td>\n",
       "      <td>1.819696</td>\n",
       "      <td>0.455370</td>\n",
       "      <td>1.365936</td>\n",
       "      <td>0.485696</td>\n",
       "      <td>0.862117</td>\n",
       "      <td>5099.426587</td>\n",
       "    </tr>\n",
       "    <tr>\n",
       "      <th>min</th>\n",
       "      <td>200000.000000</td>\n",
       "      <td>0.000000</td>\n",
       "      <td>18.000000</td>\n",
       "      <td>1.000000</td>\n",
       "      <td>5.000000</td>\n",
       "      <td>1.000000</td>\n",
       "      <td>1.000000</td>\n",
       "      <td>3.000000</td>\n",
       "      <td>1.000000</td>\n",
       "      <td>0.000000</td>\n",
       "      <td>1.000000</td>\n",
       "      <td>0.000000</td>\n",
       "      <td>0.000000</td>\n",
       "      <td>1000.000000</td>\n",
       "    </tr>\n",
       "    <tr>\n",
       "      <th>25%</th>\n",
       "      <td>201230.750000</td>\n",
       "      <td>0.000000</td>\n",
       "      <td>31.000000</td>\n",
       "      <td>1.000000</td>\n",
       "      <td>9.000000</td>\n",
       "      <td>2.000000</td>\n",
       "      <td>3.000000</td>\n",
       "      <td>3.000000</td>\n",
       "      <td>2.000000</td>\n",
       "      <td>0.000000</td>\n",
       "      <td>2.000000</td>\n",
       "      <td>0.000000</td>\n",
       "      <td>1.000000</td>\n",
       "      <td>20346.750000</td>\n",
       "    </tr>\n",
       "    <tr>\n",
       "      <th>50%</th>\n",
       "      <td>202459.500000</td>\n",
       "      <td>0.000000</td>\n",
       "      <td>37.000000</td>\n",
       "      <td>1.000000</td>\n",
       "      <td>14.000000</td>\n",
       "      <td>3.000000</td>\n",
       "      <td>4.000000</td>\n",
       "      <td>3.000000</td>\n",
       "      <td>3.000000</td>\n",
       "      <td>0.000000</td>\n",
       "      <td>3.000000</td>\n",
       "      <td>1.000000</td>\n",
       "      <td>1.000000</td>\n",
       "      <td>22430.500000</td>\n",
       "    </tr>\n",
       "    <tr>\n",
       "      <th>75%</th>\n",
       "      <td>203674.250000</td>\n",
       "      <td>0.000000</td>\n",
       "      <td>43.000000</td>\n",
       "      <td>3.000000</td>\n",
       "      <td>19.000000</td>\n",
       "      <td>3.000000</td>\n",
       "      <td>4.000000</td>\n",
       "      <td>4.000000</td>\n",
       "      <td>4.000000</td>\n",
       "      <td>1.000000</td>\n",
       "      <td>4.000000</td>\n",
       "      <td>1.000000</td>\n",
       "      <td>2.000000</td>\n",
       "      <td>25407.750000</td>\n",
       "    </tr>\n",
       "    <tr>\n",
       "      <th>max</th>\n",
       "      <td>204887.000000</td>\n",
       "      <td>1.000000</td>\n",
       "      <td>61.000000</td>\n",
       "      <td>3.000000</td>\n",
       "      <td>127.000000</td>\n",
       "      <td>5.000000</td>\n",
       "      <td>6.000000</td>\n",
       "      <td>5.000000</td>\n",
       "      <td>22.000000</td>\n",
       "      <td>1.000000</td>\n",
       "      <td>5.000000</td>\n",
       "      <td>1.000000</td>\n",
       "      <td>3.000000</td>\n",
       "      <td>98678.000000</td>\n",
       "    </tr>\n",
       "  </tbody>\n",
       "</table>\n",
       "</div>"
      ],
      "text/plain": [
       "          CustomerID    ProdTaken          Age     CityTier  DurationOfPitch  \\\n",
       "count    4792.000000  4792.000000  4792.000000  4792.000000      4792.000000   \n",
       "mean   202451.252087     0.188439    37.588689     1.652546        15.488314   \n",
       "std      1410.575317     0.391103     9.058500     0.916293         8.335775   \n",
       "min    200000.000000     0.000000    18.000000     1.000000         5.000000   \n",
       "25%    201230.750000     0.000000    31.000000     1.000000         9.000000   \n",
       "50%    202459.500000     0.000000    37.000000     1.000000        14.000000   \n",
       "75%    203674.250000     0.000000    43.000000     3.000000        19.000000   \n",
       "max    204887.000000     1.000000    61.000000     3.000000       127.000000   \n",
       "\n",
       "       NumberOfPersonVisiting  NumberOfFollowups  PreferredPropertyStar  \\\n",
       "count             4792.000000        4792.000000            4792.000000   \n",
       "mean                 2.909015           3.706177               3.581386   \n",
       "std                  0.723279           0.999091               0.797913   \n",
       "min                  1.000000           1.000000               3.000000   \n",
       "25%                  2.000000           3.000000               3.000000   \n",
       "50%                  3.000000           4.000000               3.000000   \n",
       "75%                  3.000000           4.000000               4.000000   \n",
       "max                  5.000000           6.000000               5.000000   \n",
       "\n",
       "       NumberOfTrips     Passport  PitchSatisfactionScore       OwnCar  \\\n",
       "count    4792.000000  4792.000000             4792.000000  4792.000000   \n",
       "mean        3.229132     0.293406                3.075125     0.618948   \n",
       "std         1.819696     0.455370                1.365936     0.485696   \n",
       "min         1.000000     0.000000                1.000000     0.000000   \n",
       "25%         2.000000     0.000000                2.000000     0.000000   \n",
       "50%         3.000000     0.000000                3.000000     1.000000   \n",
       "75%         4.000000     1.000000                4.000000     1.000000   \n",
       "max        22.000000     1.000000                5.000000     1.000000   \n",
       "\n",
       "       NumberOfChildrenVisiting  MonthlyIncome  \n",
       "count               4792.000000    4792.000000  \n",
       "mean                   1.173414   23475.691987  \n",
       "std                    0.862117    5099.426587  \n",
       "min                    0.000000    1000.000000  \n",
       "25%                    1.000000   20346.750000  \n",
       "50%                    1.000000   22430.500000  \n",
       "75%                    2.000000   25407.750000  \n",
       "max                    3.000000   98678.000000  "
      ]
     },
     "execution_count": 86,
     "metadata": {},
     "output_type": "execute_result"
    }
   ],
   "source": [
    "df.describe()"
   ]
  },
  {
   "cell_type": "markdown",
   "id": "79346db8-2330-4a27-a4c9-ce7d794a50c1",
   "metadata": {},
   "source": [
    "### Feature Engineering"
   ]
  },
  {
   "cell_type": "code",
   "execution_count": 88,
   "id": "553f7949-a08e-4bb9-a1b7-017dd7395b7a",
   "metadata": {
    "tags": []
   },
   "outputs": [
    {
     "data": {
      "text/html": [
       "<div>\n",
       "<style scoped>\n",
       "    .dataframe tbody tr th:only-of-type {\n",
       "        vertical-align: middle;\n",
       "    }\n",
       "\n",
       "    .dataframe tbody tr th {\n",
       "        vertical-align: top;\n",
       "    }\n",
       "\n",
       "    .dataframe thead th {\n",
       "        text-align: right;\n",
       "    }\n",
       "</style>\n",
       "<table border=\"1\" class=\"dataframe\">\n",
       "  <thead>\n",
       "    <tr style=\"text-align: right;\">\n",
       "      <th></th>\n",
       "      <th>CustomerID</th>\n",
       "      <th>ProdTaken</th>\n",
       "      <th>Age</th>\n",
       "      <th>TypeofContact</th>\n",
       "      <th>CityTier</th>\n",
       "      <th>DurationOfPitch</th>\n",
       "      <th>Occupation</th>\n",
       "      <th>Gender</th>\n",
       "      <th>NumberOfPersonVisiting</th>\n",
       "      <th>NumberOfFollowups</th>\n",
       "      <th>ProductPitched</th>\n",
       "      <th>PreferredPropertyStar</th>\n",
       "      <th>MaritalStatus</th>\n",
       "      <th>NumberOfTrips</th>\n",
       "      <th>Passport</th>\n",
       "      <th>PitchSatisfactionScore</th>\n",
       "      <th>OwnCar</th>\n",
       "      <th>NumberOfChildrenVisiting</th>\n",
       "      <th>Designation</th>\n",
       "      <th>MonthlyIncome</th>\n",
       "    </tr>\n",
       "  </thead>\n",
       "  <tbody>\n",
       "    <tr>\n",
       "      <th>0</th>\n",
       "      <td>200000</td>\n",
       "      <td>1</td>\n",
       "      <td>41.0</td>\n",
       "      <td>Self Enquiry</td>\n",
       "      <td>3</td>\n",
       "      <td>6.0</td>\n",
       "      <td>Salaried</td>\n",
       "      <td>Female</td>\n",
       "      <td>3</td>\n",
       "      <td>3.0</td>\n",
       "      <td>Deluxe</td>\n",
       "      <td>3.0</td>\n",
       "      <td>Single</td>\n",
       "      <td>1.0</td>\n",
       "      <td>1</td>\n",
       "      <td>2</td>\n",
       "      <td>1</td>\n",
       "      <td>0.0</td>\n",
       "      <td>Manager</td>\n",
       "      <td>20993.0</td>\n",
       "    </tr>\n",
       "    <tr>\n",
       "      <th>1</th>\n",
       "      <td>200001</td>\n",
       "      <td>0</td>\n",
       "      <td>49.0</td>\n",
       "      <td>Company Invited</td>\n",
       "      <td>1</td>\n",
       "      <td>14.0</td>\n",
       "      <td>Salaried</td>\n",
       "      <td>Male</td>\n",
       "      <td>3</td>\n",
       "      <td>4.0</td>\n",
       "      <td>Deluxe</td>\n",
       "      <td>4.0</td>\n",
       "      <td>Divorced</td>\n",
       "      <td>2.0</td>\n",
       "      <td>0</td>\n",
       "      <td>3</td>\n",
       "      <td>1</td>\n",
       "      <td>2.0</td>\n",
       "      <td>Manager</td>\n",
       "      <td>20130.0</td>\n",
       "    </tr>\n",
       "    <tr>\n",
       "      <th>2</th>\n",
       "      <td>200002</td>\n",
       "      <td>1</td>\n",
       "      <td>37.0</td>\n",
       "      <td>Self Enquiry</td>\n",
       "      <td>1</td>\n",
       "      <td>8.0</td>\n",
       "      <td>Free Lancer</td>\n",
       "      <td>Male</td>\n",
       "      <td>3</td>\n",
       "      <td>4.0</td>\n",
       "      <td>Basic</td>\n",
       "      <td>3.0</td>\n",
       "      <td>Single</td>\n",
       "      <td>7.0</td>\n",
       "      <td>1</td>\n",
       "      <td>3</td>\n",
       "      <td>0</td>\n",
       "      <td>0.0</td>\n",
       "      <td>Executive</td>\n",
       "      <td>17090.0</td>\n",
       "    </tr>\n",
       "    <tr>\n",
       "      <th>3</th>\n",
       "      <td>200003</td>\n",
       "      <td>0</td>\n",
       "      <td>33.0</td>\n",
       "      <td>Company Invited</td>\n",
       "      <td>1</td>\n",
       "      <td>9.0</td>\n",
       "      <td>Salaried</td>\n",
       "      <td>Female</td>\n",
       "      <td>2</td>\n",
       "      <td>3.0</td>\n",
       "      <td>Basic</td>\n",
       "      <td>3.0</td>\n",
       "      <td>Divorced</td>\n",
       "      <td>2.0</td>\n",
       "      <td>1</td>\n",
       "      <td>5</td>\n",
       "      <td>1</td>\n",
       "      <td>1.0</td>\n",
       "      <td>Executive</td>\n",
       "      <td>17909.0</td>\n",
       "    </tr>\n",
       "    <tr>\n",
       "      <th>4</th>\n",
       "      <td>200004</td>\n",
       "      <td>0</td>\n",
       "      <td>37.0</td>\n",
       "      <td>Self Enquiry</td>\n",
       "      <td>1</td>\n",
       "      <td>8.0</td>\n",
       "      <td>Small Business</td>\n",
       "      <td>Male</td>\n",
       "      <td>2</td>\n",
       "      <td>3.0</td>\n",
       "      <td>Basic</td>\n",
       "      <td>4.0</td>\n",
       "      <td>Divorced</td>\n",
       "      <td>1.0</td>\n",
       "      <td>0</td>\n",
       "      <td>5</td>\n",
       "      <td>1</td>\n",
       "      <td>0.0</td>\n",
       "      <td>Executive</td>\n",
       "      <td>18468.0</td>\n",
       "    </tr>\n",
       "  </tbody>\n",
       "</table>\n",
       "</div>"
      ],
      "text/plain": [
       "   CustomerID  ProdTaken   Age    TypeofContact  CityTier  DurationOfPitch  \\\n",
       "0      200000          1  41.0     Self Enquiry         3              6.0   \n",
       "1      200001          0  49.0  Company Invited         1             14.0   \n",
       "2      200002          1  37.0     Self Enquiry         1              8.0   \n",
       "3      200003          0  33.0  Company Invited         1              9.0   \n",
       "4      200004          0  37.0     Self Enquiry         1              8.0   \n",
       "\n",
       "       Occupation  Gender  NumberOfPersonVisiting  NumberOfFollowups  \\\n",
       "0        Salaried  Female                       3                3.0   \n",
       "1        Salaried    Male                       3                4.0   \n",
       "2     Free Lancer    Male                       3                4.0   \n",
       "3        Salaried  Female                       2                3.0   \n",
       "4  Small Business    Male                       2                3.0   \n",
       "\n",
       "  ProductPitched  PreferredPropertyStar MaritalStatus  NumberOfTrips  \\\n",
       "0         Deluxe                    3.0        Single            1.0   \n",
       "1         Deluxe                    4.0      Divorced            2.0   \n",
       "2          Basic                    3.0        Single            7.0   \n",
       "3          Basic                    3.0      Divorced            2.0   \n",
       "4          Basic                    4.0      Divorced            1.0   \n",
       "\n",
       "   Passport  PitchSatisfactionScore  OwnCar  NumberOfChildrenVisiting  \\\n",
       "0         1                       2       1                       0.0   \n",
       "1         0                       3       1                       2.0   \n",
       "2         1                       3       0                       0.0   \n",
       "3         1                       5       1                       1.0   \n",
       "4         0                       5       1                       0.0   \n",
       "\n",
       "  Designation  MonthlyIncome  \n",
       "0     Manager        20993.0  \n",
       "1     Manager        20130.0  \n",
       "2   Executive        17090.0  \n",
       "3   Executive        17909.0  \n",
       "4   Executive        18468.0  "
      ]
     },
     "execution_count": 88,
     "metadata": {},
     "output_type": "execute_result"
    }
   ],
   "source": [
    "df.head()"
   ]
  },
  {
   "cell_type": "code",
   "execution_count": 89,
   "id": "9c96374f-4195-4387-b163-e79cf14f364f",
   "metadata": {
    "tags": []
   },
   "outputs": [],
   "source": [
    "## Dropping CustomerId \n",
    "df.drop('CustomerID', axis = 1, inplace = True) "
   ]
  },
  {
   "cell_type": "code",
   "execution_count": 90,
   "id": "7ab6ccaf-96b5-4ea7-85d0-a7fba9a421f1",
   "metadata": {
    "tags": []
   },
   "outputs": [],
   "source": [
    "### Creating New column \n",
    "df['TotalVisit'] = df['NumberOfPersonVisiting'] + df['NumberOfChildrenVisiting']\n",
    "# dropping these two column \n",
    "df.drop(['NumberOfPersonVisiting','NumberOfChildrenVisiting'], axis = 1, inplace = True)\n"
   ]
  },
  {
   "cell_type": "code",
   "execution_count": 91,
   "id": "985686f6-e201-45e5-9689-dc57c24384b6",
   "metadata": {
    "tags": []
   },
   "outputs": [
    {
     "name": "stdout",
     "output_type": "stream",
     "text": [
      "Number of Categorical Features 6\n",
      "['TypeofContact', 'Occupation', 'Gender', 'ProductPitched', 'MaritalStatus', 'Designation']\n"
     ]
    }
   ],
   "source": [
    "## number of features \n",
    "Categorical_Feature = [feature for feature in df.columns if df[feature].dtypes =='O']\n",
    "print('Number of Categorical Features',len(Categorical_Feature))\n",
    "print(Categorical_Feature)"
   ]
  },
  {
   "cell_type": "code",
   "execution_count": 92,
   "id": "aa0ccec3-e44b-465d-9b14-adfe22f20257",
   "metadata": {
    "tags": []
   },
   "outputs": [
    {
     "name": "stdout",
     "output_type": "stream",
     "text": [
      "Number of Numeric Features 12\n",
      "['ProdTaken', 'Age', 'CityTier', 'DurationOfPitch', 'NumberOfFollowups', 'PreferredPropertyStar', 'NumberOfTrips', 'Passport', 'PitchSatisfactionScore', 'OwnCar', 'MonthlyIncome', 'TotalVisit']\n"
     ]
    }
   ],
   "source": [
    "## number of Numeric features \n",
    "Numeric_feature = [feature for feature in df.columns if df[feature].dtypes !='O']\n",
    "print('Number of Numeric Features',len(Numeric_feature))\n",
    "print(Numeric_feature)"
   ]
  },
  {
   "cell_type": "code",
   "execution_count": 93,
   "id": "ea3287f6-047d-46ba-8d40-5874734a6230",
   "metadata": {
    "tags": []
   },
   "outputs": [
    {
     "name": "stdout",
     "output_type": "stream",
     "text": [
      "Number of Discrete Feature 9\n",
      "['ProdTaken', 'CityTier', 'NumberOfFollowups', 'PreferredPropertyStar', 'NumberOfTrips', 'Passport', 'PitchSatisfactionScore', 'OwnCar', 'TotalVisit']\n"
     ]
    }
   ],
   "source": [
    "### Number of Discrete Feature \n",
    "Discrete = [feature for feature in Numeric_feature if len(df[feature].unique()) <=25]\n",
    "print('Number of Discrete Feature', len(Discrete))\n",
    "print(Discrete)"
   ]
  },
  {
   "cell_type": "code",
   "execution_count": 94,
   "id": "5745dbaf-1423-4b3a-afdd-7f5cc9f68871",
   "metadata": {
    "tags": []
   },
   "outputs": [
    {
     "name": "stdout",
     "output_type": "stream",
     "text": [
      "Number of Discrete Feature 3\n",
      "['Age', 'DurationOfPitch', 'MonthlyIncome']\n"
     ]
    }
   ],
   "source": [
    "## Conts Feature \n",
    "Cont  = [feature for feature in Numeric_feature if len(df[feature].unique()) > 25]\n",
    "print('Number of Discrete Feature', len(Cont))\n",
    "print(Cont)"
   ]
  },
  {
   "cell_type": "code",
   "execution_count": 95,
   "id": "11291d2f-81dd-480c-aa8e-360e9d40441d",
   "metadata": {
    "tags": []
   },
   "outputs": [],
   "source": [
    "## Dependent Feature \n",
    "x = df.drop('ProdTaken', axis = 1)\n",
    "## Independent Feature \n",
    "y = df['ProdTaken']"
   ]
  },
  {
   "cell_type": "code",
   "execution_count": 96,
   "id": "0fd2170e-62ba-4e93-8a14-52ea78f544cf",
   "metadata": {
    "tags": []
   },
   "outputs": [
    {
     "data": {
      "text/plain": [
       "((3210, 17), (1582, 17))"
      ]
     },
     "execution_count": 96,
     "metadata": {},
     "output_type": "execute_result"
    }
   ],
   "source": [
    "from sklearn.model_selection import train_test_split\n",
    "x_train, x_test, y_train, y_test = train_test_split(x,y, test_size = 0.33, random_state = 42)\n",
    "x_train.shape , x_test.shape"
   ]
  },
  {
   "cell_type": "code",
   "execution_count": 97,
   "id": "fdb7631b-37ad-4624-bdf9-58ff8ea153be",
   "metadata": {
    "tags": []
   },
   "outputs": [],
   "source": [
    "from sklearn.preprocessing import OneHotEncoder, StandardScaler\n",
    "from sklearn.compose import ColumnTransformer\n",
    "\n",
    "# Select categorical and numerical features\n",
    "cat_features = x.select_dtypes(include=\"object\").columns \n",
    "num_features = x.select_dtypes(exclude=\"object\").columns \n",
    "\n",
    "# Define transformers\n",
    "numeric_transformer = StandardScaler()\n",
    "oh_transformer = OneHotEncoder(drop=\"first\")\n",
    "\n",
    "# Create the column transformer\n",
    "preprocessor = ColumnTransformer([\n",
    "    (\"OneHotEncoder\", oh_transformer, cat_features), \n",
    "    (\"StandardScaler\", numeric_transformer, num_features)\n",
    "])"
   ]
  },
  {
   "cell_type": "code",
   "execution_count": 120,
   "id": "d4874996-fa87-4ccb-96d7-3086d9c1c7d4",
   "metadata": {
    "tags": []
   },
   "outputs": [
    {
     "data": {
      "text/html": [
       "<style>#sk-container-id-1 {color: black;background-color: white;}#sk-container-id-1 pre{padding: 0;}#sk-container-id-1 div.sk-toggleable {background-color: white;}#sk-container-id-1 label.sk-toggleable__label {cursor: pointer;display: block;width: 100%;margin-bottom: 0;padding: 0.3em;box-sizing: border-box;text-align: center;}#sk-container-id-1 label.sk-toggleable__label-arrow:before {content: \"▸\";float: left;margin-right: 0.25em;color: #696969;}#sk-container-id-1 label.sk-toggleable__label-arrow:hover:before {color: black;}#sk-container-id-1 div.sk-estimator:hover label.sk-toggleable__label-arrow:before {color: black;}#sk-container-id-1 div.sk-toggleable__content {max-height: 0;max-width: 0;overflow: hidden;text-align: left;background-color: #f0f8ff;}#sk-container-id-1 div.sk-toggleable__content pre {margin: 0.2em;color: black;border-radius: 0.25em;background-color: #f0f8ff;}#sk-container-id-1 input.sk-toggleable__control:checked~div.sk-toggleable__content {max-height: 200px;max-width: 100%;overflow: auto;}#sk-container-id-1 input.sk-toggleable__control:checked~label.sk-toggleable__label-arrow:before {content: \"▾\";}#sk-container-id-1 div.sk-estimator input.sk-toggleable__control:checked~label.sk-toggleable__label {background-color: #d4ebff;}#sk-container-id-1 div.sk-label input.sk-toggleable__control:checked~label.sk-toggleable__label {background-color: #d4ebff;}#sk-container-id-1 input.sk-hidden--visually {border: 0;clip: rect(1px 1px 1px 1px);clip: rect(1px, 1px, 1px, 1px);height: 1px;margin: -1px;overflow: hidden;padding: 0;position: absolute;width: 1px;}#sk-container-id-1 div.sk-estimator {font-family: monospace;background-color: #f0f8ff;border: 1px dotted black;border-radius: 0.25em;box-sizing: border-box;margin-bottom: 0.5em;}#sk-container-id-1 div.sk-estimator:hover {background-color: #d4ebff;}#sk-container-id-1 div.sk-parallel-item::after {content: \"\";width: 100%;border-bottom: 1px solid gray;flex-grow: 1;}#sk-container-id-1 div.sk-label:hover label.sk-toggleable__label {background-color: #d4ebff;}#sk-container-id-1 div.sk-serial::before {content: \"\";position: absolute;border-left: 1px solid gray;box-sizing: border-box;top: 0;bottom: 0;left: 50%;z-index: 0;}#sk-container-id-1 div.sk-serial {display: flex;flex-direction: column;align-items: center;background-color: white;padding-right: 0.2em;padding-left: 0.2em;position: relative;}#sk-container-id-1 div.sk-item {position: relative;z-index: 1;}#sk-container-id-1 div.sk-parallel {display: flex;align-items: stretch;justify-content: center;background-color: white;position: relative;}#sk-container-id-1 div.sk-item::before, #sk-container-id-1 div.sk-parallel-item::before {content: \"\";position: absolute;border-left: 1px solid gray;box-sizing: border-box;top: 0;bottom: 0;left: 50%;z-index: -1;}#sk-container-id-1 div.sk-parallel-item {display: flex;flex-direction: column;z-index: 1;position: relative;background-color: white;}#sk-container-id-1 div.sk-parallel-item:first-child::after {align-self: flex-end;width: 50%;}#sk-container-id-1 div.sk-parallel-item:last-child::after {align-self: flex-start;width: 50%;}#sk-container-id-1 div.sk-parallel-item:only-child::after {width: 0;}#sk-container-id-1 div.sk-dashed-wrapped {border: 1px dashed gray;margin: 0 0.4em 0.5em 0.4em;box-sizing: border-box;padding-bottom: 0.4em;background-color: white;}#sk-container-id-1 div.sk-label label {font-family: monospace;font-weight: bold;display: inline-block;line-height: 1.2em;}#sk-container-id-1 div.sk-label-container {text-align: center;}#sk-container-id-1 div.sk-container {/* jupyter's `normalize.less` sets `[hidden] { display: none; }` but bootstrap.min.css set `[hidden] { display: none !important; }` so we also need the `!important` here to be able to override the default hidden behavior on the sphinx rendered scikit-learn.org. See: https://github.com/scikit-learn/scikit-learn/issues/21755 */display: inline-block !important;position: relative;}#sk-container-id-1 div.sk-text-repr-fallback {display: none;}</style><div id=\"sk-container-id-1\" class=\"sk-top-container\"><div class=\"sk-text-repr-fallback\"><pre>ColumnTransformer(transformers=[(&#x27;OneHotEncoder&#x27;, OneHotEncoder(drop=&#x27;first&#x27;),\n",
       "                                 Index([&#x27;TypeofContact&#x27;, &#x27;Occupation&#x27;, &#x27;Gender&#x27;, &#x27;ProductPitched&#x27;,\n",
       "       &#x27;MaritalStatus&#x27;, &#x27;Designation&#x27;],\n",
       "      dtype=&#x27;object&#x27;)),\n",
       "                                (&#x27;StandardScaler&#x27;, StandardScaler(),\n",
       "                                 Index([&#x27;Age&#x27;, &#x27;CityTier&#x27;, &#x27;DurationOfPitch&#x27;, &#x27;NumberOfFollowups&#x27;,\n",
       "       &#x27;PreferredPropertyStar&#x27;, &#x27;NumberOfTrips&#x27;, &#x27;Passport&#x27;,\n",
       "       &#x27;PitchSatisfactionScore&#x27;, &#x27;OwnCar&#x27;, &#x27;MonthlyIncome&#x27;, &#x27;TotalVisit&#x27;],\n",
       "      dtype=&#x27;object&#x27;))])</pre><b>In a Jupyter environment, please rerun this cell to show the HTML representation or trust the notebook. <br />On GitHub, the HTML representation is unable to render, please try loading this page with nbviewer.org.</b></div><div class=\"sk-container\" hidden><div class=\"sk-item sk-dashed-wrapped\"><div class=\"sk-label-container\"><div class=\"sk-label sk-toggleable\"><input class=\"sk-toggleable__control sk-hidden--visually\" id=\"sk-estimator-id-1\" type=\"checkbox\" ><label for=\"sk-estimator-id-1\" class=\"sk-toggleable__label sk-toggleable__label-arrow\">ColumnTransformer</label><div class=\"sk-toggleable__content\"><pre>ColumnTransformer(transformers=[(&#x27;OneHotEncoder&#x27;, OneHotEncoder(drop=&#x27;first&#x27;),\n",
       "                                 Index([&#x27;TypeofContact&#x27;, &#x27;Occupation&#x27;, &#x27;Gender&#x27;, &#x27;ProductPitched&#x27;,\n",
       "       &#x27;MaritalStatus&#x27;, &#x27;Designation&#x27;],\n",
       "      dtype=&#x27;object&#x27;)),\n",
       "                                (&#x27;StandardScaler&#x27;, StandardScaler(),\n",
       "                                 Index([&#x27;Age&#x27;, &#x27;CityTier&#x27;, &#x27;DurationOfPitch&#x27;, &#x27;NumberOfFollowups&#x27;,\n",
       "       &#x27;PreferredPropertyStar&#x27;, &#x27;NumberOfTrips&#x27;, &#x27;Passport&#x27;,\n",
       "       &#x27;PitchSatisfactionScore&#x27;, &#x27;OwnCar&#x27;, &#x27;MonthlyIncome&#x27;, &#x27;TotalVisit&#x27;],\n",
       "      dtype=&#x27;object&#x27;))])</pre></div></div></div><div class=\"sk-parallel\"><div class=\"sk-parallel-item\"><div class=\"sk-item\"><div class=\"sk-label-container\"><div class=\"sk-label sk-toggleable\"><input class=\"sk-toggleable__control sk-hidden--visually\" id=\"sk-estimator-id-2\" type=\"checkbox\" ><label for=\"sk-estimator-id-2\" class=\"sk-toggleable__label sk-toggleable__label-arrow\">OneHotEncoder</label><div class=\"sk-toggleable__content\"><pre>Index([&#x27;TypeofContact&#x27;, &#x27;Occupation&#x27;, &#x27;Gender&#x27;, &#x27;ProductPitched&#x27;,\n",
       "       &#x27;MaritalStatus&#x27;, &#x27;Designation&#x27;],\n",
       "      dtype=&#x27;object&#x27;)</pre></div></div></div><div class=\"sk-serial\"><div class=\"sk-item\"><div class=\"sk-estimator sk-toggleable\"><input class=\"sk-toggleable__control sk-hidden--visually\" id=\"sk-estimator-id-3\" type=\"checkbox\" ><label for=\"sk-estimator-id-3\" class=\"sk-toggleable__label sk-toggleable__label-arrow\">OneHotEncoder</label><div class=\"sk-toggleable__content\"><pre>OneHotEncoder(drop=&#x27;first&#x27;)</pre></div></div></div></div></div></div><div class=\"sk-parallel-item\"><div class=\"sk-item\"><div class=\"sk-label-container\"><div class=\"sk-label sk-toggleable\"><input class=\"sk-toggleable__control sk-hidden--visually\" id=\"sk-estimator-id-4\" type=\"checkbox\" ><label for=\"sk-estimator-id-4\" class=\"sk-toggleable__label sk-toggleable__label-arrow\">StandardScaler</label><div class=\"sk-toggleable__content\"><pre>Index([&#x27;Age&#x27;, &#x27;CityTier&#x27;, &#x27;DurationOfPitch&#x27;, &#x27;NumberOfFollowups&#x27;,\n",
       "       &#x27;PreferredPropertyStar&#x27;, &#x27;NumberOfTrips&#x27;, &#x27;Passport&#x27;,\n",
       "       &#x27;PitchSatisfactionScore&#x27;, &#x27;OwnCar&#x27;, &#x27;MonthlyIncome&#x27;, &#x27;TotalVisit&#x27;],\n",
       "      dtype=&#x27;object&#x27;)</pre></div></div></div><div class=\"sk-serial\"><div class=\"sk-item\"><div class=\"sk-estimator sk-toggleable\"><input class=\"sk-toggleable__control sk-hidden--visually\" id=\"sk-estimator-id-5\" type=\"checkbox\" ><label for=\"sk-estimator-id-5\" class=\"sk-toggleable__label sk-toggleable__label-arrow\">StandardScaler</label><div class=\"sk-toggleable__content\"><pre>StandardScaler()</pre></div></div></div></div></div></div></div></div></div></div>"
      ],
      "text/plain": [
       "ColumnTransformer(transformers=[('OneHotEncoder', OneHotEncoder(drop='first'),\n",
       "                                 Index(['TypeofContact', 'Occupation', 'Gender', 'ProductPitched',\n",
       "       'MaritalStatus', 'Designation'],\n",
       "      dtype='object')),\n",
       "                                ('StandardScaler', StandardScaler(),\n",
       "                                 Index(['Age', 'CityTier', 'DurationOfPitch', 'NumberOfFollowups',\n",
       "       'PreferredPropertyStar', 'NumberOfTrips', 'Passport',\n",
       "       'PitchSatisfactionScore', 'OwnCar', 'MonthlyIncome', 'TotalVisit'],\n",
       "      dtype='object'))])"
      ]
     },
     "execution_count": 120,
     "metadata": {},
     "output_type": "execute_result"
    }
   ],
   "source": [
    "preprocessor"
   ]
  },
  {
   "cell_type": "code",
   "execution_count": 121,
   "id": "7fbe5395-6886-46dd-b007-c47fac721791",
   "metadata": {
    "tags": []
   },
   "outputs": [],
   "source": [
    "x_train = preprocessor.fit_transform(x_train)"
   ]
  },
  {
   "cell_type": "code",
   "execution_count": 122,
   "id": "d58f7fb6-8e78-4a02-a057-5f23de5f5be0",
   "metadata": {
    "tags": []
   },
   "outputs": [
    {
     "data": {
      "text/html": [
       "<div>\n",
       "<style scoped>\n",
       "    .dataframe tbody tr th:only-of-type {\n",
       "        vertical-align: middle;\n",
       "    }\n",
       "\n",
       "    .dataframe tbody tr th {\n",
       "        vertical-align: top;\n",
       "    }\n",
       "\n",
       "    .dataframe thead th {\n",
       "        text-align: right;\n",
       "    }\n",
       "</style>\n",
       "<table border=\"1\" class=\"dataframe\">\n",
       "  <thead>\n",
       "    <tr style=\"text-align: right;\">\n",
       "      <th></th>\n",
       "      <th>0</th>\n",
       "      <th>1</th>\n",
       "      <th>2</th>\n",
       "      <th>3</th>\n",
       "      <th>4</th>\n",
       "      <th>5</th>\n",
       "      <th>6</th>\n",
       "      <th>7</th>\n",
       "      <th>8</th>\n",
       "      <th>9</th>\n",
       "      <th>...</th>\n",
       "      <th>16</th>\n",
       "      <th>17</th>\n",
       "      <th>18</th>\n",
       "      <th>19</th>\n",
       "      <th>20</th>\n",
       "      <th>21</th>\n",
       "      <th>22</th>\n",
       "      <th>23</th>\n",
       "      <th>24</th>\n",
       "      <th>25</th>\n",
       "    </tr>\n",
       "  </thead>\n",
       "  <tbody>\n",
       "    <tr>\n",
       "      <th>0</th>\n",
       "      <td>0.0</td>\n",
       "      <td>0.0</td>\n",
       "      <td>1.0</td>\n",
       "      <td>0.0</td>\n",
       "      <td>1.0</td>\n",
       "      <td>0.0</td>\n",
       "      <td>0.0</td>\n",
       "      <td>0.0</td>\n",
       "      <td>0.0</td>\n",
       "      <td>1.0</td>\n",
       "      <td>...</td>\n",
       "      <td>-0.720561</td>\n",
       "      <td>-0.766680</td>\n",
       "      <td>0.288015</td>\n",
       "      <td>-0.728256</td>\n",
       "      <td>-0.680354</td>\n",
       "      <td>-0.644956</td>\n",
       "      <td>-1.520747</td>\n",
       "      <td>0.773182</td>\n",
       "      <td>-1.411056</td>\n",
       "      <td>-0.774177</td>\n",
       "    </tr>\n",
       "    <tr>\n",
       "      <th>1</th>\n",
       "      <td>1.0</td>\n",
       "      <td>0.0</td>\n",
       "      <td>0.0</td>\n",
       "      <td>1.0</td>\n",
       "      <td>0.0</td>\n",
       "      <td>1.0</td>\n",
       "      <td>0.0</td>\n",
       "      <td>0.0</td>\n",
       "      <td>0.0</td>\n",
       "      <td>1.0</td>\n",
       "      <td>...</td>\n",
       "      <td>1.455357</td>\n",
       "      <td>0.181288</td>\n",
       "      <td>0.288015</td>\n",
       "      <td>1.762636</td>\n",
       "      <td>0.971641</td>\n",
       "      <td>-0.644956</td>\n",
       "      <td>1.412465</td>\n",
       "      <td>-1.293357</td>\n",
       "      <td>-0.622509</td>\n",
       "      <td>-0.774177</td>\n",
       "    </tr>\n",
       "    <tr>\n",
       "      <th>2</th>\n",
       "      <td>1.0</td>\n",
       "      <td>0.0</td>\n",
       "      <td>1.0</td>\n",
       "      <td>0.0</td>\n",
       "      <td>0.0</td>\n",
       "      <td>0.0</td>\n",
       "      <td>0.0</td>\n",
       "      <td>0.0</td>\n",
       "      <td>0.0</td>\n",
       "      <td>1.0</td>\n",
       "      <td>...</td>\n",
       "      <td>-0.720561</td>\n",
       "      <td>-1.003671</td>\n",
       "      <td>-0.722398</td>\n",
       "      <td>-0.728256</td>\n",
       "      <td>-0.680354</td>\n",
       "      <td>-0.644956</td>\n",
       "      <td>-1.520747</td>\n",
       "      <td>0.773182</td>\n",
       "      <td>-0.664062</td>\n",
       "      <td>0.631427</td>\n",
       "    </tr>\n",
       "    <tr>\n",
       "      <th>3</th>\n",
       "      <td>1.0</td>\n",
       "      <td>0.0</td>\n",
       "      <td>1.0</td>\n",
       "      <td>0.0</td>\n",
       "      <td>1.0</td>\n",
       "      <td>0.0</td>\n",
       "      <td>0.0</td>\n",
       "      <td>0.0</td>\n",
       "      <td>1.0</td>\n",
       "      <td>0.0</td>\n",
       "      <td>...</td>\n",
       "      <td>-0.720561</td>\n",
       "      <td>-0.885176</td>\n",
       "      <td>-0.722398</td>\n",
       "      <td>-0.728256</td>\n",
       "      <td>2.072971</td>\n",
       "      <td>-0.644956</td>\n",
       "      <td>1.412465</td>\n",
       "      <td>-1.293357</td>\n",
       "      <td>1.778528</td>\n",
       "      <td>-1.476978</td>\n",
       "    </tr>\n",
       "    <tr>\n",
       "      <th>4</th>\n",
       "      <td>1.0</td>\n",
       "      <td>0.0</td>\n",
       "      <td>0.0</td>\n",
       "      <td>1.0</td>\n",
       "      <td>0.0</td>\n",
       "      <td>0.0</td>\n",
       "      <td>0.0</td>\n",
       "      <td>0.0</td>\n",
       "      <td>0.0</td>\n",
       "      <td>1.0</td>\n",
       "      <td>...</td>\n",
       "      <td>-0.720561</td>\n",
       "      <td>-0.885176</td>\n",
       "      <td>-0.722398</td>\n",
       "      <td>0.517190</td>\n",
       "      <td>-0.680354</td>\n",
       "      <td>-0.644956</td>\n",
       "      <td>0.679162</td>\n",
       "      <td>-1.293357</td>\n",
       "      <td>-1.201559</td>\n",
       "      <td>-0.071375</td>\n",
       "    </tr>\n",
       "    <tr>\n",
       "      <th>...</th>\n",
       "      <td>...</td>\n",
       "      <td>...</td>\n",
       "      <td>...</td>\n",
       "      <td>...</td>\n",
       "      <td>...</td>\n",
       "      <td>...</td>\n",
       "      <td>...</td>\n",
       "      <td>...</td>\n",
       "      <td>...</td>\n",
       "      <td>...</td>\n",
       "      <td>...</td>\n",
       "      <td>...</td>\n",
       "      <td>...</td>\n",
       "      <td>...</td>\n",
       "      <td>...</td>\n",
       "      <td>...</td>\n",
       "      <td>...</td>\n",
       "      <td>...</td>\n",
       "      <td>...</td>\n",
       "      <td>...</td>\n",
       "      <td>...</td>\n",
       "    </tr>\n",
       "    <tr>\n",
       "      <th>3205</th>\n",
       "      <td>0.0</td>\n",
       "      <td>0.0</td>\n",
       "      <td>0.0</td>\n",
       "      <td>1.0</td>\n",
       "      <td>1.0</td>\n",
       "      <td>1.0</td>\n",
       "      <td>0.0</td>\n",
       "      <td>0.0</td>\n",
       "      <td>0.0</td>\n",
       "      <td>0.0</td>\n",
       "      <td>...</td>\n",
       "      <td>-0.720561</td>\n",
       "      <td>0.892263</td>\n",
       "      <td>1.298427</td>\n",
       "      <td>-0.728256</td>\n",
       "      <td>2.623636</td>\n",
       "      <td>-0.644956</td>\n",
       "      <td>1.412465</td>\n",
       "      <td>-1.293357</td>\n",
       "      <td>0.030028</td>\n",
       "      <td>-0.071375</td>\n",
       "    </tr>\n",
       "    <tr>\n",
       "      <th>3206</th>\n",
       "      <td>0.0</td>\n",
       "      <td>0.0</td>\n",
       "      <td>0.0</td>\n",
       "      <td>1.0</td>\n",
       "      <td>1.0</td>\n",
       "      <td>0.0</td>\n",
       "      <td>1.0</td>\n",
       "      <td>0.0</td>\n",
       "      <td>0.0</td>\n",
       "      <td>0.0</td>\n",
       "      <td>...</td>\n",
       "      <td>0.367398</td>\n",
       "      <td>-0.766680</td>\n",
       "      <td>-0.722398</td>\n",
       "      <td>0.517190</td>\n",
       "      <td>-0.680354</td>\n",
       "      <td>-0.644956</td>\n",
       "      <td>-0.787444</td>\n",
       "      <td>0.773182</td>\n",
       "      <td>1.843743</td>\n",
       "      <td>-1.476978</td>\n",
       "    </tr>\n",
       "    <tr>\n",
       "      <th>3207</th>\n",
       "      <td>1.0</td>\n",
       "      <td>1.0</td>\n",
       "      <td>0.0</td>\n",
       "      <td>0.0</td>\n",
       "      <td>0.0</td>\n",
       "      <td>0.0</td>\n",
       "      <td>0.0</td>\n",
       "      <td>0.0</td>\n",
       "      <td>0.0</td>\n",
       "      <td>0.0</td>\n",
       "      <td>...</td>\n",
       "      <td>-0.720561</td>\n",
       "      <td>0.892263</td>\n",
       "      <td>0.288015</td>\n",
       "      <td>0.517190</td>\n",
       "      <td>-0.680354</td>\n",
       "      <td>-0.644956</td>\n",
       "      <td>-0.787444</td>\n",
       "      <td>0.773182</td>\n",
       "      <td>-0.409165</td>\n",
       "      <td>-0.071375</td>\n",
       "    </tr>\n",
       "    <tr>\n",
       "      <th>3208</th>\n",
       "      <td>1.0</td>\n",
       "      <td>0.0</td>\n",
       "      <td>0.0</td>\n",
       "      <td>1.0</td>\n",
       "      <td>1.0</td>\n",
       "      <td>0.0</td>\n",
       "      <td>0.0</td>\n",
       "      <td>0.0</td>\n",
       "      <td>0.0</td>\n",
       "      <td>1.0</td>\n",
       "      <td>...</td>\n",
       "      <td>-0.720561</td>\n",
       "      <td>-1.003671</td>\n",
       "      <td>0.288015</td>\n",
       "      <td>0.517190</td>\n",
       "      <td>-0.129689</td>\n",
       "      <td>-0.644956</td>\n",
       "      <td>1.412465</td>\n",
       "      <td>-1.293357</td>\n",
       "      <td>-0.228909</td>\n",
       "      <td>1.334229</td>\n",
       "    </tr>\n",
       "    <tr>\n",
       "      <th>3209</th>\n",
       "      <td>1.0</td>\n",
       "      <td>0.0</td>\n",
       "      <td>0.0</td>\n",
       "      <td>1.0</td>\n",
       "      <td>1.0</td>\n",
       "      <td>0.0</td>\n",
       "      <td>0.0</td>\n",
       "      <td>0.0</td>\n",
       "      <td>0.0</td>\n",
       "      <td>0.0</td>\n",
       "      <td>...</td>\n",
       "      <td>-0.720561</td>\n",
       "      <td>-1.122167</td>\n",
       "      <td>-0.722398</td>\n",
       "      <td>0.517190</td>\n",
       "      <td>-1.231020</td>\n",
       "      <td>1.550493</td>\n",
       "      <td>0.679162</td>\n",
       "      <td>0.773182</td>\n",
       "      <td>-0.968977</td>\n",
       "      <td>0.631427</td>\n",
       "    </tr>\n",
       "  </tbody>\n",
       "</table>\n",
       "<p>3210 rows × 26 columns</p>\n",
       "</div>"
      ],
      "text/plain": [
       "       0    1    2    3    4    5    6    7    8    9   ...        16  \\\n",
       "0     0.0  0.0  1.0  0.0  1.0  0.0  0.0  0.0  0.0  1.0  ... -0.720561   \n",
       "1     1.0  0.0  0.0  1.0  0.0  1.0  0.0  0.0  0.0  1.0  ...  1.455357   \n",
       "2     1.0  0.0  1.0  0.0  0.0  0.0  0.0  0.0  0.0  1.0  ... -0.720561   \n",
       "3     1.0  0.0  1.0  0.0  1.0  0.0  0.0  0.0  1.0  0.0  ... -0.720561   \n",
       "4     1.0  0.0  0.0  1.0  0.0  0.0  0.0  0.0  0.0  1.0  ... -0.720561   \n",
       "...   ...  ...  ...  ...  ...  ...  ...  ...  ...  ...  ...       ...   \n",
       "3205  0.0  0.0  0.0  1.0  1.0  1.0  0.0  0.0  0.0  0.0  ... -0.720561   \n",
       "3206  0.0  0.0  0.0  1.0  1.0  0.0  1.0  0.0  0.0  0.0  ...  0.367398   \n",
       "3207  1.0  1.0  0.0  0.0  0.0  0.0  0.0  0.0  0.0  0.0  ... -0.720561   \n",
       "3208  1.0  0.0  0.0  1.0  1.0  0.0  0.0  0.0  0.0  1.0  ... -0.720561   \n",
       "3209  1.0  0.0  0.0  1.0  1.0  0.0  0.0  0.0  0.0  0.0  ... -0.720561   \n",
       "\n",
       "            17        18        19        20        21        22        23  \\\n",
       "0    -0.766680  0.288015 -0.728256 -0.680354 -0.644956 -1.520747  0.773182   \n",
       "1     0.181288  0.288015  1.762636  0.971641 -0.644956  1.412465 -1.293357   \n",
       "2    -1.003671 -0.722398 -0.728256 -0.680354 -0.644956 -1.520747  0.773182   \n",
       "3    -0.885176 -0.722398 -0.728256  2.072971 -0.644956  1.412465 -1.293357   \n",
       "4    -0.885176 -0.722398  0.517190 -0.680354 -0.644956  0.679162 -1.293357   \n",
       "...        ...       ...       ...       ...       ...       ...       ...   \n",
       "3205  0.892263  1.298427 -0.728256  2.623636 -0.644956  1.412465 -1.293357   \n",
       "3206 -0.766680 -0.722398  0.517190 -0.680354 -0.644956 -0.787444  0.773182   \n",
       "3207  0.892263  0.288015  0.517190 -0.680354 -0.644956 -0.787444  0.773182   \n",
       "3208 -1.003671  0.288015  0.517190 -0.129689 -0.644956  1.412465 -1.293357   \n",
       "3209 -1.122167 -0.722398  0.517190 -1.231020  1.550493  0.679162  0.773182   \n",
       "\n",
       "            24        25  \n",
       "0    -1.411056 -0.774177  \n",
       "1    -0.622509 -0.774177  \n",
       "2    -0.664062  0.631427  \n",
       "3     1.778528 -1.476978  \n",
       "4    -1.201559 -0.071375  \n",
       "...        ...       ...  \n",
       "3205  0.030028 -0.071375  \n",
       "3206  1.843743 -1.476978  \n",
       "3207 -0.409165 -0.071375  \n",
       "3208 -0.228909  1.334229  \n",
       "3209 -0.968977  0.631427  \n",
       "\n",
       "[3210 rows x 26 columns]"
      ]
     },
     "execution_count": 122,
     "metadata": {},
     "output_type": "execute_result"
    }
   ],
   "source": [
    "pd.DataFrame(x_train)"
   ]
  },
  {
   "cell_type": "markdown",
   "id": "7a13d273-1efe-43ce-8d8c-67c2f8bf163e",
   "metadata": {},
   "source": [
    "class sklearn.ensemble.AdaBoostClassifier(estimator=None, *, n_estimators=50, learning_rate=1.0, algorithm='SAMME.R', random_state=None)"
   ]
  },
  {
   "cell_type": "code",
   "execution_count": 127,
   "id": "47df83b0-70f3-44d1-af40-951764a4c670",
   "metadata": {
    "tags": []
   },
   "outputs": [],
   "source": [
    "x_test = preprocessor.transform(x_test)"
   ]
  },
  {
   "cell_type": "code",
   "execution_count": 129,
   "id": "d2fd20e3-3e26-4bf7-9cb1-ca2e8b184abc",
   "metadata": {
    "tags": []
   },
   "outputs": [],
   "source": [
    "from sklearn.linear_model import LogisticRegression\n",
    "from sklearn.ensemble import RandomForestClassifier\n",
    "from sklearn.tree import DecisionTreeClassifier\n",
    "from sklearn.neighbors import KNeighborsClassifier\n",
    "from sklearn.ensemble import AdaBoostClassifier\n",
    "from sklearn.ensemble import GradientBoostingClassifier\n",
    "from xgboost import XGBClassifier\n",
    "from sklearn.metrics import accuracy_score, f1_score, precision_score, recall_score, roc_auc_score,mean_squared_error,r2_score"
   ]
  },
  {
   "cell_type": "code",
   "execution_count": 131,
   "id": "b76935ca-84bd-436c-b5e7-0bba1c9c6c63",
   "metadata": {
    "tags": []
   },
   "outputs": [
    {
     "name": "stdout",
     "output_type": "stream",
     "text": [
      "Logistic Regression\n",
      "\n",
      " MOdel Preformance for traning dataset\n",
      "Accurecy 0.8445482866043613\n",
      "F1 Score 0.443701226309922\n",
      "Precision 0.708185053380783\n",
      "Recall 0.32305194805194803\n",
      "Roc Auc Score 0.6457202685518029\n",
      "\n",
      "MOdel Preformance on Test DataSet\n",
      "Accurecy 0.8476611883691529\n",
      "F1 Score 0.4329411764705882\n",
      "Precision 0.6666666666666666\n",
      "Recall 0.3205574912891986\n",
      "Roc Auc Score 0.6425181278839815\n",
      "\n",
      "-----------------------------------\n",
      "\n",
      "\n",
      "Random Forest\n",
      "\n",
      " MOdel Preformance for traning dataset\n",
      "Accurecy 1.0\n",
      "F1 Score 1.0\n",
      "Precision 1.0\n",
      "Recall 1.0\n",
      "Roc Auc Score 1.0\n",
      "\n",
      "MOdel Preformance on Test DataSet\n",
      "Accurecy 0.9361567635903919\n",
      "F1 Score 0.7967806841046278\n",
      "Precision 0.9428571428571428\n",
      "Recall 0.6898954703832753\n",
      "Roc Auc Score 0.8403145305584331\n",
      "\n",
      "-----------------------------------\n",
      "\n",
      "\n",
      "Decision Tree\n",
      "\n",
      " MOdel Preformance for traning dataset\n",
      "Accurecy 1.0\n",
      "F1 Score 1.0\n",
      "Precision 1.0\n",
      "Recall 1.0\n",
      "Roc Auc Score 1.0\n",
      "\n",
      "MOdel Preformance on Test DataSet\n",
      "Accurecy 0.9140328697850821\n",
      "F1 Score 0.7571428571428571\n",
      "Precision 0.7765567765567766\n",
      "Recall 0.7386759581881533\n",
      "Roc Auc Score 0.8457858555419532\n",
      "\n",
      "-----------------------------------\n",
      "\n",
      "\n",
      "KNN\n",
      "\n",
      " MOdel Preformance for traning dataset\n",
      "Accurecy 0.9392523364485982\n",
      "F1 Score 0.8222424794895169\n",
      "Precision 0.9376299376299376\n",
      "Recall 0.7321428571428571\n",
      "Roc Auc Score 0.8602888533979514\n",
      "\n",
      "MOdel Preformance on Test DataSet\n",
      "Accurecy 0.8862199747155499\n",
      "F1 Score 0.628099173553719\n",
      "Precision 0.7715736040609137\n",
      "Recall 0.5296167247386759\n",
      "Roc Auc Score 0.7474338449948206\n",
      "\n",
      "-----------------------------------\n",
      "\n",
      "\n",
      "AdaBoost\n",
      "\n",
      " MOdel Preformance for traning dataset\n",
      "Accurecy 0.8439252336448598\n",
      "F1 Score 0.4560260586319218\n",
      "Precision 0.6885245901639344\n",
      "Recall 0.3409090909090909\n",
      "Roc Auc Score 0.6521430574052008\n",
      "\n",
      "MOdel Preformance on Test DataSet\n",
      "Accurecy 0.8407079646017699\n",
      "F1 Score 0.42986425339366513\n",
      "Precision 0.6129032258064516\n",
      "Recall 0.3310104529616725\n",
      "Roc Auc Score 0.642339203314813\n",
      "\n",
      "-----------------------------------\n",
      "\n",
      "\n",
      "GradientBoosting\n",
      "\n",
      " MOdel Preformance for traning dataset\n",
      "Accurecy 0.8894080996884736\n",
      "F1 Score 0.6373850868232891\n",
      "Precision 0.859504132231405\n",
      "Recall 0.5064935064935064\n",
      "Roc Auc Score 0.7434163754518419\n",
      "\n",
      "MOdel Preformance on Test DataSet\n",
      "Accurecy 0.8780025284450064\n",
      "F1 Score 0.562358276643991\n",
      "Precision 0.8051948051948052\n",
      "Recall 0.43205574912891986\n",
      "Roc Auc Score 0.7044448629814484\n",
      "\n",
      "-----------------------------------\n",
      "\n",
      "\n",
      "XgBoostClassifier\n",
      "\n",
      " MOdel Preformance for traning dataset\n",
      "Accurecy 0.9996884735202493\n",
      "F1 Score 0.9991876523151909\n",
      "Precision 1.0\n",
      "Recall 0.9983766233766234\n",
      "Roc Auc Score 0.9991883116883117\n",
      "\n",
      "MOdel Preformance on Test DataSet\n",
      "Accurecy 0.9355246523388117\n",
      "F1 Score 0.8053435114503817\n",
      "Precision 0.890295358649789\n",
      "Recall 0.735191637630662\n",
      "Roc Auc Score 0.8575572087767209\n",
      "\n",
      "-----------------------------------\n",
      "\n",
      "\n",
      "----------------Execution Finished----------------\n"
     ]
    }
   ],
   "source": [
    "## Creating models \n",
    "models = {\n",
    "    'Logistic Regression' : LogisticRegression(),\n",
    "    'Random Forest' : RandomForestClassifier(),\n",
    "    'Decision Tree': DecisionTreeClassifier(),\n",
    "    'KNN' : KNeighborsClassifier(),\n",
    "    'AdaBoost' : AdaBoostClassifier(),\n",
    "    'GradientBoosting' : GradientBoostingClassifier(),\n",
    "    'XgBoostClassifier' : XGBClassifier()\n",
    "    \n",
    "}\n",
    "\n",
    "for key, model in models.items():\n",
    "    model.fit(x_train, y_train)\n",
    "    \n",
    "    y_pred_test = model.predict(x_test)\n",
    "    y_pred_train = model.predict(x_train)\n",
    "    \n",
    "    # checking accurecy of my model for traning DATA\n",
    "    acc_score_train = accuracy_score(y_train, y_pred_train)\n",
    "    f1_score_train = f1_score(y_train, y_pred_train)\n",
    "    precision_score_train = precision_score(y_train, y_pred_train)\n",
    "    recall_train = recall_score(y_train, y_pred_train)\n",
    "    roc_score_train = roc_auc_score(y_train, y_pred_train)\n",
    "    \n",
    "    ##checking for test data\n",
    "    acc_score_test = accuracy_score(y_test, y_pred_test)\n",
    "    f1_score_test = f1_score(y_test, y_pred_test)\n",
    "    precision_score_test = precision_score(y_test, y_pred_test)\n",
    "    recall_test = recall_score(y_test, y_pred_test)\n",
    "    roc_score_test = roc_auc_score(y_test, y_pred_test)\n",
    "    \n",
    "    ## Printing output\n",
    "    print(key)\n",
    "    print('\\n MOdel Preformance for traning dataset')\n",
    "    print('Accurecy', acc_score_train)\n",
    "    print('F1 Score',f1_score_train)\n",
    "    print('Precision',precision_score_train)\n",
    "    print('Recall',recall_train)\n",
    "    print('Roc Auc Score',roc_score_train)\n",
    "    \n",
    "    #print('--------------------------------------\\n')\n",
    "    \n",
    "    print('\\nMOdel Preformance on Test DataSet')\n",
    "    \n",
    "    print('Accurecy', acc_score_test)\n",
    "    print('F1 Score',f1_score_test)\n",
    "    print('Precision',precision_score_test)\n",
    "    print('Recall',recall_test)\n",
    "    print('Roc Auc Score',roc_score_test)\n",
    "    \n",
    "    print('\\n-----------------------------------')\n",
    "    print('\\n')\n",
    "\n",
    "print(\"----------------Execution Finished----------------\")"
   ]
  },
  {
   "cell_type": "markdown",
   "id": "20734b75-23a1-4878-b5c5-eded04ab0c45",
   "metadata": {
    "tags": []
   },
   "source": [
    "### We have got the heighest accuracy from the random forest algorethim"
   ]
  },
  {
   "cell_type": "markdown",
   "id": "500c8fea-6064-4eb2-afa8-f6137eaeba4e",
   "metadata": {},
   "source": [
    "## Hyper Parameter tuning "
   ]
  },
  {
   "cell_type": "markdown",
   "id": "d0fa9fca-b27e-4846-a206-47840b572831",
   "metadata": {},
   "source": [
    " class sklearn.ensemble.GradientBoostingClassifier(*, loss='log_loss', learning_rate=0.1, n_estimators=100, subsample=1.0, criterion='friedman_mse', min_samples_split=2, min_samples_leaf=1, min_weight_fraction_leaf=0.0, max_depth=3, min_impurity_decrease=0.0, init=None, random_state=None, max_features=None, verbose=0, max_leaf_nodes=None, warm_start=False, validation_fraction=0.1, n_iter_no_change=None, tol=0.0001, ccp_alpha=0.0"
   ]
  },
  {
   "cell_type": "code",
   "execution_count": 161,
   "id": "16e7fbb7-032f-4be3-aa15-00e870c165a0",
   "metadata": {
    "tags": []
   },
   "outputs": [],
   "source": [
    "## Hyperparameter Training\n",
    "\n",
    "rf_params = {\"max_depth\": [5, 8, 15, None, 10,20],\n",
    "            \"max_features\": [5, 7, \"auto\", 8,10],\n",
    "            'min_samples_split': [2, 8, 15,100, 201],\n",
    "            \"n_estimators\": [100, 200, 500, 1000]\n",
    "            }\n",
    "# adaboost_params = {\n",
    "#             'n_estimators': [50,100,150,200,500,1000],\n",
    "#             'algorithm': ['SAMME', 'SAMME.R']\n",
    "                    \n",
    "#                 }\n",
    "\n",
    "# GradientBoosting_params = { 'learning_rate': [0.001, 0.01, 0.05, 0.1],\n",
    "#                            'n_estimators' : [100,300,500,1000, 800],\n",
    "#                            'criterion': ['friedman_mse', 'squared_error'],\n",
    "#                            'min_samples_split' : [4,8,12,18,20],\n",
    "#                            'min_samples_leaf' : [150,50,100,200,500],\n",
    "#                            'max_features' : ['sqrt', 'log2', 'None']\n",
    "#                           }\n",
    "\n",
    "# xgb_params = { 'max_depth':  [10, 8, 15, 20,30,40],\n",
    "#               'min_child_weight' : [2,3,5,7,10],\n",
    "#               'eta' : [0.00001,0.001,0.01],\n",
    "#               #'subsample': [0.5, 0.7]\n",
    "#               'gamma' : [0.7,0.9]\n",
    "              \n",
    "# }\n",
    "\n",
    "xgb_params = {'max_depth': [10, 15, 20, 25],\n",
    "    'min_child_weight': [1, 3, 5, 7],\n",
    "    'gamma': [0, 0.1, 0.5, 1, 0.9],\n",
    "    'subsample': [0.6, 0.8, 1.0],\n",
    "    'colsample_bytree': [0.6, 0.8, 1.0],\n",
    "    'eta': [0.01, 0.05, 0.1, 0.3],\n",
    "    'alpha': [0, 0.1, 1],\n",
    "    'lambda': [1, 1.5, 2]\n",
    "             }"
   ]
  },
  {
   "cell_type": "code",
   "execution_count": 163,
   "id": "f2e8d2dc-c3fa-4c5d-a36c-544622c770c2",
   "metadata": {
    "tags": []
   },
   "outputs": [],
   "source": [
    "# Models List for Hyperparameter tuning |\n",
    "randomcv_models = [\n",
    "                    #(\"RF\", RandomForestClassifier(), rf_params),\n",
    "    \n",
    "                    #(\"AB\", AdaBoostClassifier(), adaboost_params)\n",
    "                    #(\"GradientBoost\", GradientBoostingClassifier(), GradientBoosting_params)\n",
    "                    (\"XBG\", XGBClassifier(), xgb_params)\n",
    "    \n",
    "]"
   ]
  },
  {
   "cell_type": "code",
   "execution_count": 165,
   "id": "0f3d4843-cbab-4fa4-b453-10cbb535d5e2",
   "metadata": {
    "tags": []
   },
   "outputs": [
    {
     "data": {
      "text/plain": [
       "[('XBG',\n",
       "  XGBClassifier(base_score=None, booster=None, callbacks=None,\n",
       "                colsample_bylevel=None, colsample_bynode=None,\n",
       "                colsample_bytree=None, device=None, early_stopping_rounds=None,\n",
       "                enable_categorical=False, eval_metric=None, feature_types=None,\n",
       "                gamma=None, grow_policy=None, importance_type=None,\n",
       "                interaction_constraints=None, learning_rate=None, max_bin=None,\n",
       "                max_cat_threshold=None, max_cat_to_onehot=None,\n",
       "                max_delta_step=None, max_depth=None, max_leaves=None,\n",
       "                min_child_weight=None, missing=nan, monotone_constraints=None,\n",
       "                multi_strategy=None, n_estimators=None, n_jobs=None,\n",
       "                num_parallel_tree=None, random_state=None, ...),\n",
       "  {'max_depth': [10, 15, 20, 25],\n",
       "   'min_child_weight': [1, 3, 5, 7],\n",
       "   'gamma': [0, 0.1, 0.5, 1, 0.9],\n",
       "   'subsample': [0.6, 0.8, 1.0],\n",
       "   'colsample_bytree': [0.6, 0.8, 1.0],\n",
       "   'eta': [0.01, 0.05, 0.1, 0.3],\n",
       "   'alpha': [0, 0.1, 1],\n",
       "   'lambda': [1, 1.5, 2]})]"
      ]
     },
     "execution_count": 165,
     "metadata": {},
     "output_type": "execute_result"
    }
   ],
   "source": [
    "randomcv_models"
   ]
  },
  {
   "cell_type": "markdown",
   "id": "7117c14c-fa00-43a0-9e95-68401f832882",
   "metadata": {},
   "source": [
    "class sklearn.model_selection.RandomizedSearchCV(estimator, param_distributions, *, n_iter=10, scoring=None, n_jobs=None, refit=True, cv=None, verbose=0, pre_dispatch='2*n_jobs', random_state=None, error_score=nan, return_train_score=False)[source]\n"
   ]
  },
  {
   "cell_type": "code",
   "execution_count": 167,
   "id": "64c902a3-249c-47c3-a91c-72e2b1face8d",
   "metadata": {
    "tags": []
   },
   "outputs": [
    {
     "name": "stdout",
     "output_type": "stream",
     "text": [
      "Fitting 5 folds for each of 100 candidates, totalling 500 fits\n",
      "----------Best Parameaters for Model XBG----------\n",
      "{'subsample': 0.8, 'min_child_weight': 1, 'max_depth': 10, 'lambda': 1, 'gamma': 0.1, 'eta': 0.3, 'colsample_bytree': 0.8, 'alpha': 0.1}\n"
     ]
    }
   ],
   "source": [
    "from sklearn.model_selection import RandomizedSearchCV\n",
    "model_param = {}\n",
    "for name, model, params in randomcv_models:\n",
    "    estimator = RandomizedSearchCV(estimator= model,param_distributions = params, cv = 5, verbose = 2, n_iter = 100, n_jobs = -1)\n",
    "    estimator.fit(x_train, y_train)\n",
    "    model_param[name] = estimator.best_params_\n",
    "    \n",
    "\n",
    "    for model_name in model_param:\n",
    "        print(f'----------Best Parameaters for Model {model_name}----------')\n",
    "        print(model_param[model_name])\n",
    "    "
   ]
  },
  {
   "cell_type": "code",
   "execution_count": 180,
   "id": "ec79b981-6eec-4beb-af66-7471687de7c3",
   "metadata": {
    "tags": []
   },
   "outputs": [
    {
     "name": "stdout",
     "output_type": "stream",
     "text": [
      "Fitting 5 folds for each of 100 candidates, totalling 500 fits\n"
     ]
    },
    {
     "name": "stderr",
     "output_type": "stream",
     "text": [
      "C:\\Users\\yniku\\anaconda3\\Lib\\site-packages\\sklearn\\model_selection\\_validation.py:378: FitFailedWarning: \n",
      "160 fits failed out of a total of 500.\n",
      "The score on these train-test partitions for these parameters will be set to nan.\n",
      "If these failures are not expected, you can try to debug them by setting error_score='raise'.\n",
      "\n",
      "Below are more details about the failures:\n",
      "--------------------------------------------------------------------------------\n",
      "112 fits failed with the following error:\n",
      "Traceback (most recent call last):\n",
      "  File \"C:\\Users\\yniku\\anaconda3\\Lib\\site-packages\\sklearn\\model_selection\\_validation.py\", line 686, in _fit_and_score\n",
      "    estimator.fit(X_train, y_train, **fit_params)\n",
      "  File \"C:\\Users\\yniku\\anaconda3\\Lib\\site-packages\\sklearn\\ensemble\\_gb.py\", line 420, in fit\n",
      "    self._validate_params()\n",
      "  File \"C:\\Users\\yniku\\anaconda3\\Lib\\site-packages\\sklearn\\base.py\", line 600, in _validate_params\n",
      "    validate_parameter_constraints(\n",
      "  File \"C:\\Users\\yniku\\anaconda3\\Lib\\site-packages\\sklearn\\utils\\_param_validation.py\", line 97, in validate_parameter_constraints\n",
      "    raise InvalidParameterError(\n",
      "sklearn.utils._param_validation.InvalidParameterError: The 'max_features' parameter of GradientBoostingClassifier must be an int in the range [1, inf), a float in the range (0.0, 1.0], a str among {'log2', 'sqrt', 'auto' (deprecated)} or None. Got 'None' instead.\n",
      "\n",
      "--------------------------------------------------------------------------------\n",
      "26 fits failed with the following error:\n",
      "Traceback (most recent call last):\n",
      "  File \"C:\\Users\\yniku\\anaconda3\\Lib\\site-packages\\sklearn\\model_selection\\_validation.py\", line 686, in _fit_and_score\n",
      "    estimator.fit(X_train, y_train, **fit_params)\n",
      "  File \"C:\\Users\\yniku\\anaconda3\\Lib\\site-packages\\sklearn\\ensemble\\_gb.py\", line 420, in fit\n",
      "    self._validate_params()\n",
      "  File \"C:\\Users\\yniku\\anaconda3\\Lib\\site-packages\\sklearn\\base.py\", line 600, in _validate_params\n",
      "    validate_parameter_constraints(\n",
      "  File \"C:\\Users\\yniku\\anaconda3\\Lib\\site-packages\\sklearn\\utils\\_param_validation.py\", line 97, in validate_parameter_constraints\n",
      "    raise InvalidParameterError(\n",
      "sklearn.utils._param_validation.InvalidParameterError: The 'max_features' parameter of GradientBoostingClassifier must be an int in the range [1, inf), a float in the range (0.0, 1.0], a str among {'sqrt', 'auto' (deprecated), 'log2'} or None. Got 'None' instead.\n",
      "\n",
      "--------------------------------------------------------------------------------\n",
      "13 fits failed with the following error:\n",
      "Traceback (most recent call last):\n",
      "  File \"C:\\Users\\yniku\\anaconda3\\Lib\\site-packages\\sklearn\\model_selection\\_validation.py\", line 686, in _fit_and_score\n",
      "    estimator.fit(X_train, y_train, **fit_params)\n",
      "  File \"C:\\Users\\yniku\\anaconda3\\Lib\\site-packages\\sklearn\\ensemble\\_gb.py\", line 420, in fit\n",
      "    self._validate_params()\n",
      "  File \"C:\\Users\\yniku\\anaconda3\\Lib\\site-packages\\sklearn\\base.py\", line 600, in _validate_params\n",
      "    validate_parameter_constraints(\n",
      "  File \"C:\\Users\\yniku\\anaconda3\\Lib\\site-packages\\sklearn\\utils\\_param_validation.py\", line 97, in validate_parameter_constraints\n",
      "    raise InvalidParameterError(\n",
      "sklearn.utils._param_validation.InvalidParameterError: The 'max_features' parameter of GradientBoostingClassifier must be an int in the range [1, inf), a float in the range (0.0, 1.0], a str among {'auto' (deprecated), 'sqrt', 'log2'} or None. Got 'None' instead.\n",
      "\n",
      "--------------------------------------------------------------------------------\n",
      "9 fits failed with the following error:\n",
      "Traceback (most recent call last):\n",
      "  File \"C:\\Users\\yniku\\anaconda3\\Lib\\site-packages\\sklearn\\model_selection\\_validation.py\", line 686, in _fit_and_score\n",
      "    estimator.fit(X_train, y_train, **fit_params)\n",
      "  File \"C:\\Users\\yniku\\anaconda3\\Lib\\site-packages\\sklearn\\ensemble\\_gb.py\", line 420, in fit\n",
      "    self._validate_params()\n",
      "  File \"C:\\Users\\yniku\\anaconda3\\Lib\\site-packages\\sklearn\\base.py\", line 600, in _validate_params\n",
      "    validate_parameter_constraints(\n",
      "  File \"C:\\Users\\yniku\\anaconda3\\Lib\\site-packages\\sklearn\\utils\\_param_validation.py\", line 97, in validate_parameter_constraints\n",
      "    raise InvalidParameterError(\n",
      "sklearn.utils._param_validation.InvalidParameterError: The 'max_features' parameter of GradientBoostingClassifier must be an int in the range [1, inf), a float in the range (0.0, 1.0], a str among {'sqrt', 'log2', 'auto' (deprecated)} or None. Got 'None' instead.\n",
      "\n",
      "  warnings.warn(some_fits_failed_message, FitFailedWarning)\n",
      "C:\\Users\\yniku\\anaconda3\\Lib\\site-packages\\sklearn\\model_selection\\_search.py:952: UserWarning: One or more of the test scores are non-finite: [0.86168224 0.83084112 0.85576324 0.80809969 0.80809969 0.84890966\n",
      "        nan 0.84517134 0.85389408        nan        nan        nan\n",
      "        nan 0.84485981 0.80809969        nan 0.84205607 0.85358255\n",
      " 0.80809969 0.80809969 0.80809969 0.8682243  0.84766355        nan\n",
      " 0.87071651 0.80809969 0.85856698 0.85077882 0.8376947  0.84143302\n",
      " 0.84548287 0.80809969 0.85233645 0.80809969 0.83831776        nan\n",
      " 0.84330218 0.84548287 0.85732087        nan        nan        nan\n",
      "        nan 0.84548287 0.8376947         nan 0.82180685        nan\n",
      " 0.81121495 0.84890966 0.84485981 0.80809969        nan 0.80809969\n",
      "        nan 0.85482866 0.80809969        nan        nan 0.80841121\n",
      "        nan 0.85264798        nan 0.84735202        nan 0.85202492\n",
      " 0.84579439 0.86043614 0.83457944 0.84735202 0.83707165 0.80809969\n",
      " 0.84922118 0.84299065        nan        nan 0.8423676  0.85919003\n",
      "        nan        nan        nan 0.83520249 0.84548287 0.86386293\n",
      "        nan 0.85327103        nan 0.82056075 0.80809969 0.84610592\n",
      " 0.85327103        nan 0.80809969 0.85140187 0.85327103        nan\n",
      "        nan 0.80809969        nan 0.80809969]\n",
      "  warnings.warn(\n"
     ]
    },
    {
     "name": "stdout",
     "output_type": "stream",
     "text": [
      "----------Best Parameaters for Model GradientBoost----------\n",
      "{'n_estimators': 800, 'min_samples_split': 18, 'min_samples_leaf': 50, 'max_features': 'sqrt', 'learning_rate': 0.1, 'criterion': 'squared_error'}\n"
     ]
    }
   ],
   "source": [
    "from sklearn.model_selection import RandomizedSearchCV\n",
    "model_param = {}\n",
    "for name, model, params in randomcv_models:\n",
    "    estimator = RandomizedSearchCV(estimator= model,param_distributions = params, cv = 5, verbose = 3, n_iter = 100, n_jobs = -1)\n",
    "    estimator.fit(x_train, y_train)\n",
    "    model_param[name] = estimator.best_params_\n",
    "    \n",
    "\n",
    "    for model_name in model_param:\n",
    "        print(f'----------Best Parameaters for Model {model_name}----------')\n",
    "        print(model_param[model_name])\n",
    "    "
   ]
  },
  {
   "cell_type": "code",
   "execution_count": 179,
   "id": "764bfbaa-94f7-44fd-907b-241eaac1b595",
   "metadata": {
    "tags": []
   },
   "outputs": [
    {
     "name": "stdout",
     "output_type": "stream",
     "text": [
      "Random Forest\n",
      "\n",
      " MOdel Preformance for traning dataset\n",
      "Accurecy 1.0\n",
      "F1 Score 1.0\n",
      "Precision 1.0\n",
      "Recall 1.0\n",
      "Roc Auc Score 1.0\n",
      "\n",
      "MOdel Preformance on Test DataSet\n",
      "Accurecy 0.9380530973451328\n",
      "F1 Score 0.9345663199296177\n",
      "Precision 0.9379213421462922\n",
      "Recall 0.9380530973451328\n",
      "Roc Auc Score 0.8482531311799605\n",
      "\n",
      "-----------------------------------\n",
      "\n",
      "\n"
     ]
    },
    {
     "name": "stderr",
     "output_type": "stream",
     "text": [
      "C:\\Users\\yniku\\anaconda3\\Lib\\site-packages\\xgboost\\core.py:158: UserWarning: [15:24:31] WARNING: C:\\buildkite-agent\\builds\\buildkite-windows-cpu-autoscaling-group-i-0015a694724fa8361-1\\xgboost\\xgboost-ci-windows\\src\\learner.cc:740: \n",
      "Parameters: { \"lambda_\" } are not used.\n",
      "\n",
      "  warnings.warn(smsg, UserWarning)\n"
     ]
    },
    {
     "name": "stdout",
     "output_type": "stream",
     "text": [
      "XGBClassifier\n",
      "\n",
      " MOdel Preformance for traning dataset\n",
      "Accurecy 1.0\n",
      "F1 Score 1.0\n",
      "Precision 1.0\n",
      "Recall 1.0\n",
      "Roc Auc Score 1.0\n",
      "\n",
      "MOdel Preformance on Test DataSet\n",
      "Accurecy 0.9329962073324906\n",
      "F1 Score 0.9311054990936133\n",
      "Precision 0.9310137535450074\n",
      "Recall 0.9329962073324906\n",
      "Roc Auc Score 0.8614370468029005\n",
      "\n",
      "-----------------------------------\n",
      "\n",
      "\n"
     ]
    }
   ],
   "source": [
    "## Creating models \n",
    "models = {\n",
    "    'Random Forest' : RandomForestClassifier(n_estimators= 100, min_samples_split= 2, max_features= 7, max_depth = None),\n",
    "    #'AdaBoost' : AdaBoostClassifier(n_estimators = 500, algorithm =  'SAMME'),\n",
    "   # 'GradientBoost' : GradientBoostingClassifier(n_estimators = 800, min_samples_split = 18, min_samples_leaf= 50, max_features= 'sqrt', learning_rate= 0.1, criterion = 'squared_error'),\n",
    "    'XGBClassifier': XGBClassifier(subsample = 0.8, min_child_weight = 1, max_depth= 10, lambda_ = 1, gamma= 0.1, eta = 0.3, colsample_bytree =0.8, alpha = 0.1)\n",
    "    \n",
    "}\n",
    "\n",
    "for key, model in models.items():\n",
    "    model.fit(x_train, y_train)\n",
    "    \n",
    "    y_pred_test = model.predict(x_test)\n",
    "    y_pred_train = model.predict(x_train)\n",
    "    \n",
    "    # checking accurecy of my model for traning DATA\n",
    "    acc_score_train = accuracy_score(y_train, y_pred_train)\n",
    "    f1_score_train = f1_score(y_train, y_pred_train,average='weighted')\n",
    "    precision_score_train = precision_score(y_train, y_pred_train,average='weighted')\n",
    "    recall_train = recall_score(y_train, y_pred_train, average='weighted')\n",
    "    roc_score_train = roc_auc_score(y_train, y_pred_train)\n",
    "    \n",
    "    ##checking for test data\n",
    "    acc_score_test = accuracy_score(y_test, y_pred_test)\n",
    "    f1_score_test = f1_score(y_test, y_pred_test,average='weighted')\n",
    "    precision_score_test = precision_score(y_test, y_pred_test,average='weighted')\n",
    "    recall_test = recall_score(y_test, y_pred_test,average='weighted')\n",
    "    roc_score_test = roc_auc_score(y_test, y_pred_test)\n",
    "    \n",
    "    ## Printing output\n",
    "    print(key)\n",
    "    print('\\n MOdel Preformance for traning dataset')\n",
    "    print('Accurecy', acc_score_train)\n",
    "    print('F1 Score',f1_score_train)\n",
    "    print('Precision',precision_score_train)\n",
    "    print('Recall',recall_train)\n",
    "    print('Roc Auc Score',roc_score_train)\n",
    "    \n",
    "    #print('--------------------------------------\\n')\n",
    "    \n",
    "    print('\\nMOdel Preformance on Test DataSet')\n",
    "    \n",
    "    print('Accurecy', acc_score_test)\n",
    "    print('F1 Score',f1_score_test)\n",
    "    print('Precision',precision_score_test)\n",
    "    print('Recall',recall_test)\n",
    "    print('Roc Auc Score',roc_score_test)\n",
    "    \n",
    "    print('\\n-----------------------------------')\n",
    "    print('\\n')\n",
    "    "
   ]
  },
  {
   "cell_type": "code",
   "execution_count": null,
   "id": "826b0edb-b1a5-48ab-8b7f-d9db22a164bd",
   "metadata": {},
   "outputs": [],
   "source": []
  },
  {
   "cell_type": "code",
   "execution_count": null,
   "id": "cb96cb78-1c3a-4aec-b8a3-9eff4f96d98f",
   "metadata": {},
   "outputs": [],
   "source": []
  },
  {
   "cell_type": "code",
   "execution_count": null,
   "id": "428c42f4-7c45-4e83-9f2d-5ec9fe70c858",
   "metadata": {},
   "outputs": [],
   "source": []
  },
  {
   "cell_type": "code",
   "execution_count": null,
   "id": "01d88142-d218-40af-9158-7fea7dfd6f21",
   "metadata": {},
   "outputs": [],
   "source": []
  },
  {
   "cell_type": "code",
   "execution_count": null,
   "id": "7772cac3-45d2-439d-a24f-c2c23e3ab644",
   "metadata": {},
   "outputs": [],
   "source": []
  },
  {
   "cell_type": "code",
   "execution_count": null,
   "id": "f423fdaf-ebf2-496c-a5fa-383c398b64cb",
   "metadata": {},
   "outputs": [],
   "source": []
  },
  {
   "cell_type": "code",
   "execution_count": null,
   "id": "dd0369ce-b86f-4076-8be6-22167157d430",
   "metadata": {},
   "outputs": [],
   "source": []
  },
  {
   "cell_type": "code",
   "execution_count": null,
   "id": "e8f283be-4c93-4d2b-b343-c653a8900866",
   "metadata": {},
   "outputs": [],
   "source": []
  },
  {
   "cell_type": "code",
   "execution_count": null,
   "id": "9c1affea-48db-4de4-b9b4-369a3c302e8e",
   "metadata": {},
   "outputs": [],
   "source": []
  }
 ],
 "metadata": {
  "kernelspec": {
   "display_name": "Python 3 (ipykernel)",
   "language": "python",
   "name": "python3"
  },
  "language_info": {
   "codemirror_mode": {
    "name": "ipython",
    "version": 3
   },
   "file_extension": ".py",
   "mimetype": "text/x-python",
   "name": "python",
   "nbconvert_exporter": "python",
   "pygments_lexer": "ipython3",
   "version": "3.11.7"
  }
 },
 "nbformat": 4,
 "nbformat_minor": 5
}
